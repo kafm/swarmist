{
 "cells": [
  {
   "cell_type": "code",
   "execution_count": 1,
   "id": "1e34f7e5",
   "metadata": {},
   "outputs": [],
   "source": [
    "import sys\n",
    "sys.path.insert(0, '.')\n",
    "import swarmist as sw"
   ]
  },
  {
   "cell_type": "markdown",
   "id": "62f643f3",
   "metadata": {},
   "source": [
    "## PSO"
   ]
  },
  {
   "cell_type": "code",
   "execution_count": 2,
   "id": "8708d1cd",
   "metadata": {},
   "outputs": [
    {
     "name": "stdout",
     "output_type": "stream",
     "text": [
      "5.189313962322538e-28\n"
     ]
    }
   ],
   "source": [
    "pso_res = sw.sdl.execute(\"\"\"\n",
    "SEARCH(\n",
    "    VAR X SIZE(20) BOUNDED BY (-5.12, 5.12) \n",
    "    MINIMIZE SUM(X**2)\n",
    ")\n",
    "USING (\n",
    "    PARAMETERS (\n",
    "        C1 = 2.05 BOUNDED BY (0, 8)\n",
    "        C2 = 2.05 BOUNDED BY (0, 8) \n",
    "        CHI = 0.7298 BOUNDED BY (0, 1)\n",
    "    )\n",
    "    POPULATION SIZE(40) INIT RANDOM_UNIFORM()\n",
    "    SELECT ALL (\n",
    "        UPDATE (\n",
    "            VELOCITY= PARAM(CHI) * (\n",
    "                DELTA \n",
    "                + PARAM(C1) * RANDOM() * (BEST-POS)\n",
    "                + PARAM(C2) * RANDOM() * (SWARM_BEST()-POS)\n",
    "            )\n",
    "            POS = POS + VELOCITY\n",
    "        ) \n",
    "    )\n",
    ")\n",
    "UNTIL (\n",
    "    GENERATION = 1000\n",
    ")\n",
    "\"\"\")"
   ]
  },
  {
   "cell_type": "markdown",
   "id": "c7ec267e",
   "metadata": {},
   "source": [
    "## BB"
   ]
  },
  {
   "cell_type": "code",
   "execution_count": 3,
   "id": "11c8f41b",
   "metadata": {},
   "outputs": [
    {
     "name": "stdout",
     "output_type": "stream",
     "text": [
      "3.4836018334791706e-32\n"
     ]
    }
   ],
   "source": [
    "bb_res = sw.sdl.execute(\"\"\"\n",
    "SEARCH(\n",
    "    VAR X SIZE(20) BOUNDED BY (-5.12, 5.12) \n",
    "    MINIMIZE SUM(X**2)\n",
    ")\n",
    "USING (\n",
    "    POPULATION SIZE(40) INIT RANDOM_UNIFORM()\n",
    "    SELECT ALL (\n",
    "        UPDATE (\n",
    "            MU= (SWARM_BEST()+BEST)/2\n",
    "            SD = ABS(SWARM_BEST()-BEST)\n",
    "            POS = RANDOM_NORMAL(LOC=MU, SCALE=SD)\n",
    "        ) WHEN IMPROVED = TRUE\n",
    "    )\n",
    ")\n",
    "UNTIL (\n",
    "    GENERATION = 1000\n",
    ")\n",
    "\"\"\")"
   ]
  },
  {
   "cell_type": "markdown",
   "id": "d84fa146",
   "metadata": {},
   "source": [
    "## FIPS"
   ]
  },
  {
   "cell_type": "code",
   "execution_count": 4,
   "id": "c4f7a428",
   "metadata": {},
   "outputs": [
    {
     "name": "stdout",
     "output_type": "stream",
     "text": [
      "7.356293595629664e-85\n"
     ]
    }
   ],
   "source": [
    "fips_res = sw.sdl.execute(\"\"\"\n",
    "SEARCH(\n",
    "    VAR X SIZE(20) BOUNDED BY (-5.12, 5.12) \n",
    "    MINIMIZE SUM(X**2)\n",
    ")\n",
    "USING (\n",
    "    PARAMETERS (\n",
    "        PHI = 4.1 BOUNDED BY (0, 8)\n",
    "        CHI = 0.7298 BOUNDED BY (0, 1)\n",
    "    )\n",
    "    POPULATION SIZE(40) INIT RANDOM_UNIFORM() WITH TOPOLOGY LBEST SIZE(2)\n",
    "    SELECT ALL (\n",
    "        UPDATE (\n",
    "            NEIGHBORS = NEIGHBORHOOD()\n",
    "            N = COUNT(NEIGHBORS)\n",
    "            W = RANDOM(SIZE=N)\n",
    "            PHI = SUM(W) * (PARAM(PHI) / N)\n",
    "            PM = AVG(NEIGHBORS, W)\n",
    "            SCT = PHI * (PM - POS)\n",
    "            POS = POS + PARAM(CHI) * (DELTA + SCT)\n",
    "        ) \n",
    "    )\n",
    ")\n",
    "UNTIL (\n",
    "    GENERATION = 1000\n",
    ")\n",
    "\"\"\")"
   ]
  },
  {
   "cell_type": "markdown",
   "id": "2709ca56",
   "metadata": {},
   "source": [
    "## DE (Binomial)"
   ]
  },
  {
   "cell_type": "code",
   "execution_count": 5,
   "id": "3fa76c9a",
   "metadata": {},
   "outputs": [
    {
     "name": "stdout",
     "output_type": "stream",
     "text": [
      "1.1364234048949089e-23\n"
     ]
    }
   ],
   "source": [
    "de_bin_res = sw.sdl.execute(\"\"\"\n",
    "SEARCH(\n",
    "    VAR X SIZE(20) BOUNDED BY (-5.12, 5.12) \n",
    "    MINIMIZE SUM(X**2)\n",
    ")\n",
    "USING (\n",
    "    PARAMETERS (\n",
    "        F = 0.5 BOUNDED BY (0, 1)\n",
    "    )\n",
    "    POPULATION SIZE(40) INIT RANDOM_UNIFORM()\n",
    "    SELECT ALL (\n",
    "        USING BINOMIAL RECOMBINATION WITH PROBABILITY 0.6\n",
    "        UPDATE (\n",
    "            POS = PICK_RANDOM(UNIQUE) + PARAM(F) * (PICK_RANDOM(UNIQUE) - PICK_RANDOM(UNIQUE)) \n",
    "        ) WHEN IMPROVED = TRUE\n",
    "    )\n",
    ")\n",
    "UNTIL (\n",
    "    GENERATION = 1000\n",
    ")\n",
    "\"\"\")"
   ]
  },
  {
   "cell_type": "markdown",
   "id": "cd6ceaea",
   "metadata": {},
   "source": [
    "## DE (Exponential)"
   ]
  },
  {
   "cell_type": "code",
   "execution_count": 6,
   "id": "2aa7b346",
   "metadata": {},
   "outputs": [
    {
     "name": "stdout",
     "output_type": "stream",
     "text": [
      "9.59696264954204e-12\n"
     ]
    }
   ],
   "source": [
    "de_exp_res = sw.sdl.execute(\"\"\"\n",
    "SEARCH(\n",
    "    VAR X SIZE(20) BOUNDED BY (-5.12, 5.12) \n",
    "    MINIMIZE SUM(X**2)\n",
    ")\n",
    "USING (\n",
    "    PARAMETERS (\n",
    "        F = 0.5 BOUNDED BY (0, 1)\n",
    "    )\n",
    "    POPULATION SIZE(40) INIT RANDOM_UNIFORM()\n",
    "    SELECT ALL (\n",
    "        USING EXPONENTIAL RECOMBINATION WITH PROBABILITY 0.6\n",
    "        UPDATE (\n",
    "            POS = PICK_RANDOM(UNIQUE) + PARAM(F) * (PICK_RANDOM(UNIQUE) - PICK_RANDOM(UNIQUE)) \n",
    "        ) WHEN IMPROVED = TRUE \n",
    "    )\n",
    ")\n",
    "UNTIL (\n",
    "    GENERATION = 1000\n",
    ")\n",
    "\"\"\")"
   ]
  },
  {
   "cell_type": "markdown",
   "id": "44de273e",
   "metadata": {},
   "source": [
    "## DE RAND-TO-BEST"
   ]
  },
  {
   "cell_type": "code",
   "execution_count": 7,
   "id": "5c7a0ca5",
   "metadata": {},
   "outputs": [
    {
     "name": "stdout",
     "output_type": "stream",
     "text": [
      "0.00010973926644129511\n"
     ]
    }
   ],
   "source": [
    "de_r2b_res = sw.sdl.execute(\"\"\"\n",
    "SEARCH(\n",
    "    VAR X SIZE(20) BOUNDED BY (-5.12, 5.12) \n",
    "    MINIMIZE SUM(X**2)\n",
    ")\n",
    "USING (\n",
    "    PARAMETERS (\n",
    "        F = 0.5 BOUNDED BY (0, 1)\n",
    "    )\n",
    "    POPULATION SIZE(40) INIT RANDOM_UNIFORM()\n",
    "    SELECT ALL (\n",
    "        USING BINOMIAL RECOMBINATION WITH PROBABILITY 0.6\n",
    "        UPDATE (\n",
    "            POS = RAND_TO_BEST(WITH PROBABILITY 0.5) + PARAM(F) * (PICK_RANDOM(UNIQUE) - PICK_RANDOM(UNIQUE)) \n",
    "        ) WHEN IMPROVED = TRUE\n",
    "    )\n",
    ")\n",
    "UNTIL (\n",
    "    GENERATION = 1000\n",
    ")\n",
    "\"\"\")"
   ]
  },
  {
   "cell_type": "markdown",
   "id": "9adbe8e6",
   "metadata": {},
   "source": [
    "## DE CURRENT-TO-BEST"
   ]
  },
  {
   "cell_type": "code",
   "execution_count": 8,
   "id": "6b2a4d4a",
   "metadata": {},
   "outputs": [
    {
     "name": "stdout",
     "output_type": "stream",
     "text": [
      "0.0009101505741746135\n"
     ]
    }
   ],
   "source": [
    "de_r2b_res = sw.sdl.execute(\"\"\"\n",
    "SEARCH(\n",
    "    VAR X SIZE(20) BOUNDED BY (-5.12, 5.12) \n",
    "    MINIMIZE SUM(X**2)\n",
    ")\n",
    "USING (\n",
    "    PARAMETERS (\n",
    "        F = 0.5 BOUNDED BY (0, 1)\n",
    "    )\n",
    "    POPULATION SIZE(40) INIT RANDOM_UNIFORM()\n",
    "    SELECT ALL (\n",
    "        USING BINOMIAL RECOMBINATION WITH PROBABILITY 0.6\n",
    "        UPDATE (\n",
    "            POS = CURRENT_TO_BEST(WITH PROBABILITY 0.5) + PARAM(F) * (PICK_RANDOM(UNIQUE) - PICK_RANDOM(UNIQUE)) \n",
    "        ) WHEN IMPROVED = TRUE\n",
    "    )\n",
    ")\n",
    "UNTIL (\n",
    "    GENERATION = 1000\n",
    ")\n",
    "\"\"\")"
   ]
  },
  {
   "cell_type": "markdown",
   "id": "387e35c2",
   "metadata": {},
   "source": [
    "## JAYA"
   ]
  },
  {
   "cell_type": "code",
   "execution_count": 9,
   "id": "073ead5b",
   "metadata": {},
   "outputs": [
    {
     "name": "stdout",
     "output_type": "stream",
     "text": [
      "2.558100123801092e-12\n"
     ]
    }
   ],
   "source": [
    "jaya_res = sw.sdl.execute(\"\"\"\n",
    "SEARCH(\n",
    "    VAR X SIZE(20) BOUNDED BY (-5.12, 5.12) \n",
    "    MINIMIZE SUM(X**2)\n",
    ")\n",
    "USING (\n",
    "    POPULATION SIZE(40) INIT RANDOM_UNIFORM()\n",
    "    SELECT ALL (\n",
    "        UPDATE (\n",
    "            ABS_POS = ABS(POS)\n",
    "            POS = POS + RANDOM() * (SWARM_BEST() - ABS_POS) - RANDOM() * (SWARM_WORST() - ABS_POS)\n",
    "        ) WHEN IMPROVED = TRUE\n",
    "    )\n",
    ")\n",
    "UNTIL (\n",
    "    GENERATION = 1000\n",
    ")\n",
    "\"\"\")"
   ]
  },
  {
   "cell_type": "code",
   "execution_count": null,
   "id": "ea557a54",
   "metadata": {},
   "outputs": [],
   "source": []
  }
 ],
 "metadata": {
  "kernelspec": {
   "display_name": "Python 3 (ipykernel)",
   "language": "python",
   "name": "python3"
  },
  "language_info": {
   "codemirror_mode": {
    "name": "ipython",
    "version": 3
   },
   "file_extension": ".py",
   "mimetype": "text/x-python",
   "name": "python",
   "nbconvert_exporter": "python",
   "pygments_lexer": "ipython3",
   "version": "3.11.3"
  }
 },
 "nbformat": 4,
 "nbformat_minor": 5
}
