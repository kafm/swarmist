{
 "cells": [
  {
   "cell_type": "code",
   "execution_count": 1,
   "id": "1e34f7e5",
   "metadata": {},
   "outputs": [],
   "source": [
    "import sys\n",
    "sys.path.insert(0, '.')\n",
    "import swarmist as sw"
   ]
  },
  {
   "cell_type": "markdown",
   "id": "62f643f3",
   "metadata": {},
   "source": [
    "## PSO"
   ]
  },
  {
   "cell_type": "code",
   "execution_count": 2,
   "id": "8708d1cd",
   "metadata": {},
   "outputs": [
    {
     "name": "stdout",
     "output_type": "stream",
     "text": [
      "1.7406527078037974e-31\n"
     ]
    }
   ],
   "source": [
    "pso_res = sw.sdl.execute(\"\"\"\n",
    "SEARCH(\n",
    "    VAR X SIZE(20) BOUNDED BY (-5.12, 5.12) \n",
    "    MINIMIZE SUM(X**2)\n",
    ")\n",
    "USING (\n",
    "    PARAMETERS (\n",
    "        C1 = 2.05 BOUNDED BY (0, 8)\n",
    "        C2 = 2.05 BOUNDED BY (0, 8) \n",
    "        CHI = 0.7298 BOUNDED BY (0, 1)\n",
    "    )\n",
    "    POPULATION SIZE(40) INIT RANDOM_UNIFORM()\n",
    "    SELECT ALL (\n",
    "        UPDATE (\n",
    "            VELOCITY= PARAM(CHI) * (\n",
    "                DELTA \n",
    "                + PARAM(C1) * RANDOM() * (BEST-POS)\n",
    "                + PARAM(C2) * RANDOM() * (SWARM_BEST()-POS)\n",
    "            )\n",
    "            POS = POS + VELOCITY\n",
    "        ) \n",
    "    )\n",
    ")\n",
    "UNTIL (\n",
    "    GENERATION = 1000\n",
    ")\n",
    "\"\"\")"
   ]
  },
  {
   "cell_type": "markdown",
   "id": "c7ec267e",
   "metadata": {},
   "source": [
    "## BB"
   ]
  },
  {
   "cell_type": "code",
   "execution_count": 3,
   "id": "11c8f41b",
   "metadata": {},
   "outputs": [
    {
     "name": "stdout",
     "output_type": "stream",
     "text": [
      "3.708488181255675e-33\n"
     ]
    }
   ],
   "source": [
    "bb_res = sw.sdl.execute(\"\"\"\n",
    "SEARCH(\n",
    "    VAR X SIZE(20) BOUNDED BY (-5.12, 5.12) \n",
    "    MINIMIZE SUM(X**2)\n",
    ")\n",
    "USING (\n",
    "    POPULATION SIZE(40) INIT RANDOM_UNIFORM()\n",
    "    SELECT ALL (\n",
    "        UPDATE (\n",
    "            MU= (SWARM_BEST()+BEST)/2\n",
    "            SD = ABS(SWARM_BEST()-BEST)\n",
    "            POS = RANDOM_NORMAL(LOC=MU, SCALE=SD)\n",
    "        ) WHEN IMPROVED = TRUE\n",
    "    )\n",
    ")\n",
    "UNTIL (\n",
    "    GENERATION = 1000\n",
    ")\n",
    "\"\"\")"
   ]
  },
  {
   "cell_type": "markdown",
   "id": "d84fa146",
   "metadata": {},
   "source": [
    "## FIPS"
   ]
  },
  {
   "cell_type": "code",
   "execution_count": 4,
   "id": "c4f7a428",
   "metadata": {},
   "outputs": [
    {
     "name": "stdout",
     "output_type": "stream",
     "text": [
      "8.873115894204675e-83\n"
     ]
    }
   ],
   "source": [
    "fips_res = sw.sdl.execute(\"\"\"\n",
    "SEARCH(\n",
    "    VAR X SIZE(20) BOUNDED BY (-5.12, 5.12) \n",
    "    MINIMIZE SUM(X**2)\n",
    ")\n",
    "USING (\n",
    "    PARAMETERS (\n",
    "        PHI = 4.1 BOUNDED BY (0, 8)\n",
    "        CHI = 0.7298 BOUNDED BY (0, 1)\n",
    "    )\n",
    "    POPULATION SIZE(40) INIT RANDOM_UNIFORM() WITH TOPOLOGY LBEST SIZE(2)\n",
    "    SELECT ALL (\n",
    "        UPDATE (\n",
    "            NEIGHBORS = NEIGHBORHOOD()\n",
    "            N = COUNT(NEIGHBORS)\n",
    "            W = RANDOM(SIZE=N)\n",
    "            PHI = SUM(W) * (PARAM(PHI) / N)\n",
    "            PM = AVG(NEIGHBORS, W)\n",
    "            SCT = PHI * (PM - POS)\n",
    "            POS = POS + PARAM(CHI) * (DELTA + SCT)\n",
    "        ) \n",
    "    )\n",
    ")\n",
    "UNTIL (\n",
    "    GENERATION = 1000\n",
    ")\n",
    "\"\"\")"
   ]
  },
  {
   "cell_type": "markdown",
   "id": "2709ca56",
   "metadata": {},
   "source": [
    "## DE (Binomial)"
   ]
  },
  {
   "cell_type": "code",
   "execution_count": 5,
   "id": "3fa76c9a",
   "metadata": {},
   "outputs": [
    {
     "name": "stdout",
     "output_type": "stream",
     "text": [
      "1.7392278145863345e-23\n"
     ]
    }
   ],
   "source": [
    "de_bin_res = sw.sdl.execute(\"\"\"\n",
    "SEARCH(\n",
    "    VAR X SIZE(20) BOUNDED BY (-5.12, 5.12) \n",
    "    MINIMIZE SUM(X**2)\n",
    ")\n",
    "USING (\n",
    "    PARAMETERS (\n",
    "        F = 0.5 BOUNDED BY (0, 1)\n",
    "    )\n",
    "    POPULATION SIZE(40) INIT RANDOM_UNIFORM()\n",
    "    SELECT ALL (\n",
    "        USING BINOMIAL RECOMBINATION WITH PROBABILITY 0.6\n",
    "        UPDATE (\n",
    "            POS = PICK_RANDOM(UNIQUE) + PARAM(F) * (PICK_RANDOM(UNIQUE) - PICK_RANDOM(UNIQUE)) \n",
    "        ) WHEN IMPROVED = TRUE\n",
    "    )\n",
    ")\n",
    "UNTIL (\n",
    "    GENERATION = 1000\n",
    ")\n",
    "\"\"\")"
   ]
  },
  {
   "cell_type": "markdown",
   "id": "884383a8",
   "metadata": {},
   "source": [
    "## DE (Exponential)"
   ]
  },
  {
   "cell_type": "code",
   "execution_count": 6,
   "id": "7c3d8159",
   "metadata": {},
   "outputs": [
    {
     "name": "stdout",
     "output_type": "stream",
     "text": [
      "8.366384587528534e-12\n"
     ]
    }
   ],
   "source": [
    "de_exp_res = sw.sdl.execute(\"\"\"\n",
    "SEARCH(\n",
    "    VAR X SIZE(20) BOUNDED BY (-5.12, 5.12) \n",
    "    MINIMIZE SUM(X**2)\n",
    ")\n",
    "USING (\n",
    "    PARAMETERS (\n",
    "        F = 0.5 BOUNDED BY (0, 1)\n",
    "    )\n",
    "    POPULATION SIZE(40) INIT RANDOM_UNIFORM()\n",
    "    SELECT ALL (\n",
    "        USING EXPONENTIAL RECOMBINATION WITH PROBABILITY 0.6\n",
    "        UPDATE (\n",
    "            POS = PICK_RANDOM(UNIQUE) + PARAM(F) * (PICK_RANDOM(UNIQUE) - PICK_RANDOM(UNIQUE)) \n",
    "        ) WHEN IMPROVED = TRUE \n",
    "    )\n",
    ")\n",
    "UNTIL (\n",
    "    GENERATION = 1000\n",
    ")\n",
    "\"\"\")"
   ]
  },
  {
   "cell_type": "markdown",
   "id": "33d4c931",
   "metadata": {},
   "source": [
    "## DE RAND-TO-BEST"
   ]
  },
  {
   "cell_type": "code",
   "execution_count": 7,
   "id": "2beccbd7",
   "metadata": {},
   "outputs": [
    {
     "name": "stdout",
     "output_type": "stream",
     "text": [
      "0.0013945241752740894\n"
     ]
    }
   ],
   "source": [
    "de_r2b_res = sw.sdl.execute(\"\"\"\n",
    "SEARCH(\n",
    "    VAR X SIZE(20) BOUNDED BY (-5.12, 5.12) \n",
    "    MINIMIZE SUM(X**2)\n",
    ")\n",
    "USING (\n",
    "    PARAMETERS (\n",
    "        F = 0.5 BOUNDED BY (0, 1)\n",
    "    )\n",
    "    POPULATION SIZE(40) INIT RANDOM_UNIFORM()\n",
    "    SELECT ALL (\n",
    "        USING BINOMIAL RECOMBINATION WITH PROBABILITY 0.6\n",
    "        UPDATE (\n",
    "            POS = RAND_TO_BEST(WITH PROBABILITY 0.5) + PARAM(F) * (PICK_RANDOM(UNIQUE) - PICK_RANDOM(UNIQUE)) \n",
    "        ) WHEN IMPROVED = TRUE\n",
    "    )\n",
    ")\n",
    "UNTIL (\n",
    "    GENERATION = 1000\n",
    ")\n",
    "\"\"\")"
   ]
  },
  {
   "cell_type": "markdown",
   "id": "3d00bb69",
   "metadata": {},
   "source": [
    "## DE CURRENT-TO-BEST"
   ]
  },
  {
   "cell_type": "code",
   "execution_count": 8,
   "id": "718a733c",
   "metadata": {},
   "outputs": [
    {
     "name": "stdout",
     "output_type": "stream",
     "text": [
      "0.0004454881561053214\n"
     ]
    }
   ],
   "source": [
    "de_r2b_res = sw.sdl.execute(\"\"\"\n",
    "SEARCH(\n",
    "    VAR X SIZE(20) BOUNDED BY (-5.12, 5.12) \n",
    "    MINIMIZE SUM(X**2)\n",
    ")\n",
    "USING (\n",
    "    PARAMETERS (\n",
    "        F = 0.5 BOUNDED BY (0, 1)\n",
    "    )\n",
    "    POPULATION SIZE(40) INIT RANDOM_UNIFORM()\n",
    "    SELECT ALL (\n",
    "        USING BINOMIAL RECOMBINATION WITH PROBABILITY 0.6\n",
    "        UPDATE (\n",
    "            POS = CURRENT_TO_BEST(WITH PROBABILITY 0.5) + PARAM(F) * (PICK_RANDOM(UNIQUE) - PICK_RANDOM(UNIQUE)) \n",
    "        ) WHEN IMPROVED = TRUE\n",
    "    )\n",
    ")\n",
    "UNTIL (\n",
    "    GENERATION = 1000\n",
    ")\n",
    "\"\"\")"
   ]
  },
  {
   "cell_type": "markdown",
   "id": "96602dee",
   "metadata": {},
   "source": [
    "## JAYA"
   ]
  },
  {
   "cell_type": "code",
   "execution_count": 9,
   "id": "c77cfef8",
   "metadata": {},
   "outputs": [
    {
     "name": "stdout",
     "output_type": "stream",
     "text": [
      "1.3295441182506554e-11\n"
     ]
    }
   ],
   "source": [
    "jaya_res = sw.sdl.execute(\"\"\"\n",
    "SEARCH(\n",
    "    VAR X SIZE(20) BOUNDED BY (-5.12, 5.12) \n",
    "    MINIMIZE SUM(X**2)\n",
    ")\n",
    "USING (\n",
    "    POPULATION SIZE(40) INIT RANDOM_UNIFORM()\n",
    "    SELECT ALL (\n",
    "        UPDATE (\n",
    "            ABS_POS = ABS(POS)\n",
    "            POS = POS + RANDOM() * (SWARM_BEST() - ABS_POS) - RANDOM() * (SWARM_WORST() - ABS_POS)\n",
    "        ) WHEN IMPROVED = TRUE\n",
    "    )\n",
    ")\n",
    "UNTIL (\n",
    "    GENERATION = 1000\n",
    ")\n",
    "\"\"\")"
   ]
  },
  {
   "cell_type": "markdown",
   "id": "dba0e36f",
   "metadata": {},
   "source": [
    "## ABC"
   ]
  },
  {
   "cell_type": "code",
   "execution_count": 10,
   "id": "56c16546",
   "metadata": {},
   "outputs": [
    {
     "name": "stdout",
     "output_type": "stream",
     "text": [
      "7.341430244745413e-34\n"
     ]
    }
   ],
   "source": [
    "abc_res = sw.sdl.execute(\"\"\"\n",
    "SEARCH(\n",
    "    VAR X SIZE(20) BOUNDED BY (-5.12, 5.12) \n",
    "    MINIMIZE SUM(X**2)\n",
    ")\n",
    "USING (\n",
    "    POPULATION SIZE(40) INIT RANDOM_UNIFORM()\n",
    "    SELECT ALL (\n",
    "        USING RANDOM RECOMBINATION SIZE(1)\n",
    "        UPDATE (\n",
    "            POS = RANDOM_UNIFORM(LOW=-1, HIGH=1) * (POS - PICK_RANDOM())\n",
    "        ) WHEN IMPROVED = TRUE\n",
    "    )\n",
    "    SELECT SIZE(1) WHERE TRIALS > POPULATION_SIZE*NDIMS ORDER BY TRIALS DESC (\n",
    "        INIT RANDOM_UNIFORM()\n",
    "    )\n",
    ")\n",
    "UNTIL (\n",
    "    GENERATION = 1000\n",
    ")\n",
    "\"\"\")"
   ]
  },
  {
   "cell_type": "markdown",
   "id": "362a80a1",
   "metadata": {},
   "source": [
    "## CS"
   ]
  },
  {
   "cell_type": "code",
   "execution_count": 11,
   "id": "ef10b57d",
   "metadata": {},
   "outputs": [
    {
     "name": "stdout",
     "output_type": "stream",
     "text": [
      "1.0451596764764133e-05\n"
     ]
    }
   ],
   "source": [
    "cs_res = sw.sdl.execute(\"\"\"\n",
    "SEARCH(\n",
    "    VAR X SIZE(20) BOUNDED BY (-5.12, 5.12) \n",
    "    MINIMIZE SUM(X**2)\n",
    ")\n",
    "USING (\n",
    "    PARAMETERS (\n",
    "        PA = 0.25 BOUNDED BY (0, 1)\n",
    "        ALPHA = 1 BOUNDED BY (0, 1)\n",
    "        MU = 1.5 BOUNDED BY (0,3)\n",
    "    )\n",
    "    POPULATION SIZE(40) INIT RANDOM_UNIFORM()\n",
    "    SELECT ALL (\n",
    "        UPDATE (\n",
    "            POS = POS + PARAM(ALPHA) * RANDOM_LEVY(LOC=PARAM(MU)) * (POS - SWARM_BEST())\n",
    "        ) WHEN IMPROVED = TRUE\n",
    "    )\n",
    "    SELECT ALL (\n",
    "        USING RECOMBINATION WITH PROBABILITY PARAM(PA)\n",
    "        UPDATE (\n",
    "            POS = POS + RANDOM() * (PICK_RANDOM(UNIQUE) - PICK_RANDOM(UNIQUE))\n",
    "        ) WHEN IMPROVED = TRUE\n",
    "    )\n",
    ")\n",
    "UNTIL (\n",
    "    GENERATION = 1000\n",
    ")\n",
    "\"\"\")"
   ]
  },
  {
   "cell_type": "markdown",
   "id": "2f59a29d",
   "metadata": {},
   "source": [
    "## FF (TO REVIEW)"
   ]
  },
  {
   "cell_type": "code",
   "execution_count": 12,
   "id": "bb34b999",
   "metadata": {},
   "outputs": [
    {
     "name": "stdout",
     "output_type": "stream",
     "text": [
      "46.66686774975298\n"
     ]
    }
   ],
   "source": [
    "ff_res = sw.sdl.execute(\"\"\"\n",
    "SEARCH(\n",
    "    VAR X SIZE(20) BOUNDED BY (-5.12, 5.12) \n",
    "    MINIMIZE SUM(X**2)\n",
    ")\n",
    "USING (\n",
    "    PARAMETERS (\n",
    "        ALPHA = 1 BOUNDED BY (0, 2)\n",
    "        DELTA = 0.97 BOUNDED BY (0, 1)\n",
    "        BETA = 1 BOUNDED BY (0, 2)\n",
    "        GAMMA = 0.01 BOUNDED BY (0, 1)\n",
    "    )\n",
    "    POPULATION SIZE(40) INIT RANDOM_UNIFORM()\n",
    "    SELECT ALL (\n",
    "        UPDATE (\n",
    "            ALPHA = ( PARAM(ALPHA) * PARAM(DELTA) ) ** CURR_GEN\n",
    "            BETTER_ONES = FILTER(ALL(), (REF) => REF.FIT < FIT)\n",
    "            POS = REDUCE(BETTER_ONES, (ACC, REF) => \n",
    "                ACC + (\n",
    "                    PARAM(BETA) * EXP( -PARAM(GAMMA) * (REF.POS - POS)**2 )\n",
    "                ) * (REF.POS - POS) + ( ALPHA * (RANDOM() - 0.5) )\n",
    "            , POS)\n",
    "        )\n",
    "    )\n",
    ")\n",
    "UNTIL (\n",
    "    GENERATION = 1000\n",
    ")\n",
    "\"\"\")"
   ]
  },
  {
   "cell_type": "markdown",
   "id": "01d742ea",
   "metadata": {},
   "source": [
    "## GWO"
   ]
  },
  {
   "cell_type": "code",
   "execution_count": 13,
   "id": "805f7150",
   "metadata": {},
   "outputs": [
    {
     "name": "stdout",
     "output_type": "stream",
     "text": [
      "0.0\n"
     ]
    }
   ],
   "source": [
    "gwo_res = sw.sdl.execute(\"\"\"\n",
    "SEARCH(\n",
    "    VAR X SIZE(20) BOUNDED BY (-5.12, 5.12) \n",
    "    MINIMIZE SUM(X**2)\n",
    ")\n",
    "USING (\n",
    "    PARAMETERS (\n",
    "        A = 2 BOUNDED BY (0, 10)\n",
    "    )\n",
    "    POPULATION SIZE(40) INIT RANDOM_UNIFORM()\n",
    "    SELECT ALL (\n",
    "        UPDATE (\n",
    "            A = PARAM(A) - CURR_GEN * ( PARAM(A) / MAX_GEN ) \n",
    "            POS = AVG(\n",
    "                REDUCE(\n",
    "                    SWARM_BEST(3), \n",
    "                    (ACC, REF) => ACC + ( A * ABS( (2 * RANDOM()) * REF.POS - POS) ),\n",
    "                    0\n",
    "                )\n",
    "            )\n",
    "        ) WHEN IMPROVED = TRUE\n",
    "    )\n",
    ")\n",
    "UNTIL (\n",
    "    GENERATION = 1000\n",
    ")\n",
    "\"\"\")"
   ]
  },
  {
   "cell_type": "markdown",
   "id": "0ef92d14",
   "metadata": {},
   "source": [
    "## SCA"
   ]
  },
  {
   "cell_type": "code",
   "execution_count": 14,
   "id": "9dd1dc19",
   "metadata": {},
   "outputs": [
    {
     "name": "stdout",
     "output_type": "stream",
     "text": [
      "8.348177775812888e-60\n"
     ]
    }
   ],
   "source": [
    "sca_res = sw.sdl.execute(\"\"\"\n",
    "SEARCH(\n",
    "    VAR X SIZE(20) BOUNDED BY (-5.12, 5.12) \n",
    "    MINIMIZE SUM(X**2)\n",
    ")\n",
    "USING (\n",
    "    PARAMETERS (\n",
    "        A = 2 BOUNDED BY (0, 10)\n",
    "    )\n",
    "    POPULATION SIZE(40) INIT RANDOM_UNIFORM()\n",
    "    SELECT ALL (\n",
    "        UPDATE (\n",
    "            A = PARAM(A) - CURR_GEN * ( PARAM(A) / MAX_GEN )\n",
    "            SC = REPEAT(\n",
    "                IF_THEN(\n",
    "                    RANDOM(SIZE=1) < 0.5, \n",
    "                    SIN( RANDOM_UNIFORM(LOW=0, HIGH=2*PI(), SIZE=1) ),\n",
    "                    COS( RANDOM_UNIFORM(LOW=0, HIGH=2*PI(), SIZE=1) )\n",
    "                ), \n",
    "                NDIMS) \n",
    "            POS = POS + ( A * SC * ABS( RANDOM() * SWARM_BEST() - POS ) ) \n",
    "        ) WHEN IMPROVED = TRUE\n",
    "    )\n",
    ")\n",
    "UNTIL (\n",
    "    GENERATION = 1000\n",
    ")\n",
    "\"\"\")"
   ]
  },
  {
   "cell_type": "markdown",
   "id": "38d0c379",
   "metadata": {},
   "source": [
    "## TLBO"
   ]
  },
  {
   "cell_type": "code",
   "execution_count": 15,
   "id": "4e5a740a",
   "metadata": {},
   "outputs": [
    {
     "name": "stdout",
     "output_type": "stream",
     "text": [
      "4.0864647003611354e-193\n"
     ]
    }
   ],
   "source": [
    "tlbo_res = sw.sdl.execute(\"\"\"\n",
    "SEARCH(\n",
    "    VAR X SIZE(20) BOUNDED BY (-5.12, 5.12) \n",
    "    MINIMIZE SUM(X**2)\n",
    ")\n",
    "USING (\n",
    "    PARAMETERS (\n",
    "        A = 2 BOUNDED BY (0, 10)\n",
    "    )\n",
    "    POPULATION SIZE(40) INIT RANDOM_UNIFORM()\n",
    "    SELECT ALL (\n",
    "        UPDATE (\n",
    "            TF = IF_THEN(RANDOM(SIZE=1) < 0.5, 1, 2)\n",
    "            POS = POS + ( RANDOM() * ( SWARM_BEST() - TF*AVG(ALL()) ) ) \n",
    "        ) WHEN IMPROVED = TRUE\n",
    "    )\n",
    "    SELECT ALL (\n",
    "        UPDATE (\n",
    "            POS = REDUCE(\n",
    "                PICK_RANDOM(UNIQUE),\n",
    "                (ACC, REF) => ACC + IF_THEN(\n",
    "                    REF.FIT < FIT,\n",
    "                    RANDOM() * (REF.POS - POS),\n",
    "                    RANDOM() * (POS - REF.POS)\n",
    "                ),\n",
    "                POS\n",
    "            )\n",
    "        ) WHEN IMPROVED = TRUE\n",
    "    )\n",
    ")\n",
    "UNTIL (\n",
    "    GENERATION = 1000\n",
    ")\n",
    "\"\"\")"
   ]
  },
  {
   "cell_type": "markdown",
   "id": "c4eecabe",
   "metadata": {},
   "source": [
    "## WO"
   ]
  },
  {
   "cell_type": "code",
   "execution_count": 16,
   "id": "386efab6",
   "metadata": {},
   "outputs": [
    {
     "name": "stdout",
     "output_type": "stream",
     "text": [
      "1.6711791668867637e-80\n"
     ]
    }
   ],
   "source": [
    "wo_res = sw.sdl.execute(\"\"\"\n",
    "SEARCH(\n",
    "    VAR X SIZE(20) BOUNDED BY (-5.12, 5.12) \n",
    "    MINIMIZE SUM(X**2)\n",
    ")\n",
    "USING (\n",
    "    PARAMETERS (\n",
    "        A = 2 BOUNDED BY (0, 10)\n",
    "        BETA = .5 BOUNDED BY (0,1) \n",
    "    )\n",
    "    POPULATION SIZE(40) INIT RANDOM_UNIFORM()\n",
    "    SELECT ALL (\n",
    "        UPDATE (\n",
    "            a = PARAM(A) - CURR_GEN * ( PARAM(A) / MAX_GEN )\n",
    "            A = 2 * ( a * RANDOM() ) - a\n",
    "            ATTACK = IF_THEN(RANDOM(SIZE=1) <.5, TRUE, FALSE)\n",
    "            REF = IF_THEN( ATTACK = TRUE AND NORM(A) < 1, PICK_RANDOM(UNIQUE), SWARM_BEST() )\n",
    "            L = IF_THEN(ATTACK = TRUE,  RANDOM_UNIFORM (LOW=-1, HIGH=1), 0)\n",
    "            D = IF_THEN(\n",
    "                ATTACK = TRUE, \n",
    "                ABS( REF - POS ), \n",
    "                ABS( (2 * RANDOM()) * REF - POS )\n",
    "            )\n",
    "            POS = IF_THEN(\n",
    "                ATTACK = TRUE,\n",
    "                D * EXP( PARAM(BETA) * L ) * COS( 2 * PI() * L ) + REF,\n",
    "                REF - A * D\n",
    "            )\n",
    "        ) WHEN IMPROVED = TRUE\n",
    "    )\n",
    ")\n",
    "UNTIL (\n",
    "    GENERATION = 1000\n",
    ")\n",
    "\"\"\")"
   ]
  },
  {
   "cell_type": "code",
   "execution_count": null,
   "id": "85fb3bdb",
   "metadata": {},
   "outputs": [],
   "source": []
  }
 ],
 "metadata": {
  "kernelspec": {
   "display_name": "Python 3 (ipykernel)",
   "language": "python",
   "name": "python3"
  },
  "language_info": {
   "codemirror_mode": {
    "name": "ipython",
    "version": 3
   },
   "file_extension": ".py",
   "mimetype": "text/x-python",
   "name": "python",
   "nbconvert_exporter": "python",
   "pygments_lexer": "ipython3",
   "version": "3.11.3"
  }
 },
 "nbformat": 4,
 "nbformat_minor": 5
}
