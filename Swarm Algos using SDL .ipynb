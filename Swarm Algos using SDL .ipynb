{
 "cells": [
  {
   "cell_type": "code",
   "execution_count": 1,
   "id": "1e34f7e5",
   "metadata": {},
   "outputs": [],
   "source": [
    "import sys\n",
    "sys.path.insert(0, '.')\n",
    "import swarmist as sw"
   ]
  },
  {
   "cell_type": "markdown",
   "id": "62f643f3",
   "metadata": {},
   "source": [
    "## PSO"
   ]
  },
  {
   "cell_type": "code",
   "execution_count": 2,
   "id": "8708d1cd",
   "metadata": {},
   "outputs": [
    {
     "name": "stdout",
     "output_type": "stream",
     "text": [
      "5.189313962322538e-28\n"
     ]
    }
   ],
   "source": [
    "pso_res = sw.sdl.execute(\"\"\"\n",
    "SEARCH(\n",
    "    VAR X SIZE(20) BOUNDED BY (-5.12, 5.12) \n",
    "    MINIMIZE SUM(X**2)\n",
    ")\n",
    "USING (\n",
    "    PARAMETERS (\n",
    "        C1 = 2.05 BOUNDED BY (0, 8)\n",
    "        C2 = 2.05 BOUNDED BY (0, 8) \n",
    "        CHI = 0.7298 BOUNDED BY (0, 1)\n",
    "    )\n",
    "    POPULATION SIZE(40) INIT RANDOM_UNIFORM()\n",
    "    SELECT ALL (\n",
    "        UPDATE (\n",
    "            VELOCITY= PARAM(CHI) * (\n",
    "                DELTA \n",
    "                + PARAM(C1) * RANDOM() * (BEST-POS)\n",
    "                + PARAM(C2) * RANDOM() * (SWARM_BEST()-POS)\n",
    "            )\n",
    "            POS = POS + VELOCITY\n",
    "        ) \n",
    "    )\n",
    ")\n",
    "UNTIL (\n",
    "    GENERATION = 1000\n",
    ")\n",
    "\"\"\")"
   ]
  },
  {
   "cell_type": "markdown",
   "id": "c7ec267e",
   "metadata": {},
   "source": [
    "## BB"
   ]
  },
  {
   "cell_type": "code",
   "execution_count": 3,
   "id": "11c8f41b",
   "metadata": {},
   "outputs": [
    {
     "name": "stdout",
     "output_type": "stream",
     "text": [
      "3.4836018334791706e-32\n"
     ]
    }
   ],
   "source": [
    "bb_res = sw.sdl.execute(\"\"\"\n",
    "SEARCH(\n",
    "    VAR X SIZE(20) BOUNDED BY (-5.12, 5.12) \n",
    "    MINIMIZE SUM(X**2)\n",
    ")\n",
    "USING (\n",
    "    POPULATION SIZE(40) INIT RANDOM_UNIFORM()\n",
    "    SELECT ALL (\n",
    "        UPDATE (\n",
    "            MU= (SWARM_BEST()+BEST)/2\n",
    "            SD = ABS(SWARM_BEST()-BEST)\n",
    "            POS = RANDOM_NORMAL(LOC=MU, SCALE=SD)\n",
    "        ) WHEN IMPROVED = TRUE\n",
    "    )\n",
    ")\n",
    "UNTIL (\n",
    "    GENERATION = 1000\n",
    ")\n",
    "\"\"\")"
   ]
  },
  {
   "cell_type": "markdown",
   "id": "d84fa146",
   "metadata": {},
   "source": [
    "## FIPS"
   ]
  },
  {
   "cell_type": "code",
   "execution_count": 4,
   "id": "c4f7a428",
   "metadata": {},
   "outputs": [
    {
     "name": "stdout",
     "output_type": "stream",
     "text": [
      "7.356293595629664e-85\n"
     ]
    }
   ],
   "source": [
    "fips_res = sw.sdl.execute(\"\"\"\n",
    "SEARCH(\n",
    "    VAR X SIZE(20) BOUNDED BY (-5.12, 5.12) \n",
    "    MINIMIZE SUM(X**2)\n",
    ")\n",
    "USING (\n",
    "    PARAMETERS (\n",
    "        PHI = 4.1 BOUNDED BY (0, 8)\n",
    "        CHI = 0.7298 BOUNDED BY (0, 1)\n",
    "    )\n",
    "    POPULATION SIZE(40) INIT RANDOM_UNIFORM() WITH TOPOLOGY LBEST SIZE(2)\n",
    "    SELECT ALL (\n",
    "        UPDATE (\n",
    "            NEIGHBORS = NEIGHBORHOOD()\n",
    "            N = COUNT(NEIGHBORS)\n",
    "            W = RANDOM(SIZE=N)\n",
    "            PHI = SUM(W) * (PARAM(PHI) / N)\n",
    "            PM = AVG(NEIGHBORS, W)\n",
    "            SCT = PHI * (PM - POS)\n",
    "            POS = POS + PARAM(CHI) * (DELTA + SCT)\n",
    "        ) \n",
    "    )\n",
    ")\n",
    "UNTIL (\n",
    "    GENERATION = 1000\n",
    ")\n",
    "\"\"\")"
   ]
  },
  {
   "cell_type": "markdown",
   "id": "2709ca56",
   "metadata": {},
   "source": [
    "## DE (Binomial)"
   ]
  },
  {
   "cell_type": "code",
   "execution_count": 5,
   "id": "3fa76c9a",
   "metadata": {},
   "outputs": [
    {
     "name": "stdout",
     "output_type": "stream",
     "text": [
      "1.1364234048949089e-23\n"
     ]
    }
   ],
   "source": [
    "de_bin_res = sw.sdl.execute(\"\"\"\n",
    "SEARCH(\n",
    "    VAR X SIZE(20) BOUNDED BY (-5.12, 5.12) \n",
    "    MINIMIZE SUM(X**2)\n",
    ")\n",
    "USING (\n",
    "    PARAMETERS (\n",
    "        F = 0.5 BOUNDED BY (0, 1)\n",
    "    )\n",
    "    POPULATION SIZE(40) INIT RANDOM_UNIFORM()\n",
    "    SELECT ALL (\n",
    "        USING BINOMIAL RECOMBINATION WITH PROBABILITY 0.6\n",
    "        UPDATE (\n",
    "            POS = PICK_RANDOM(UNIQUE) + PARAM(F) * (PICK_RANDOM(UNIQUE) - PICK_RANDOM(UNIQUE)) \n",
    "        ) WHEN IMPROVED = TRUE\n",
    "    )\n",
    ")\n",
    "UNTIL (\n",
    "    GENERATION = 1000\n",
    ")\n",
    "\"\"\")"
   ]
  },
  {
   "cell_type": "markdown",
   "id": "884383a8",
   "metadata": {},
   "source": [
    "## DE (Exponential)"
   ]
  },
  {
   "cell_type": "code",
   "execution_count": 6,
   "id": "7c3d8159",
   "metadata": {},
   "outputs": [
    {
     "name": "stdout",
     "output_type": "stream",
     "text": [
      "9.59696264954204e-12\n"
     ]
    }
   ],
   "source": [
    "de_exp_res = sw.sdl.execute(\"\"\"\n",
    "SEARCH(\n",
    "    VAR X SIZE(20) BOUNDED BY (-5.12, 5.12) \n",
    "    MINIMIZE SUM(X**2)\n",
    ")\n",
    "USING (\n",
    "    PARAMETERS (\n",
    "        F = 0.5 BOUNDED BY (0, 1)\n",
    "    )\n",
    "    POPULATION SIZE(40) INIT RANDOM_UNIFORM()\n",
    "    SELECT ALL (\n",
    "        USING EXPONENTIAL RECOMBINATION WITH PROBABILITY 0.6\n",
    "        UPDATE (\n",
    "            POS = PICK_RANDOM(UNIQUE) + PARAM(F) * (PICK_RANDOM(UNIQUE) - PICK_RANDOM(UNIQUE)) \n",
    "        ) WHEN IMPROVED = TRUE \n",
    "    )\n",
    ")\n",
    "UNTIL (\n",
    "    GENERATION = 1000\n",
    ")\n",
    "\"\"\")"
   ]
  },
  {
   "cell_type": "markdown",
   "id": "33d4c931",
   "metadata": {},
   "source": [
    "## DE RAND-TO-BEST"
   ]
  },
  {
   "cell_type": "code",
   "execution_count": 7,
   "id": "2beccbd7",
   "metadata": {},
   "outputs": [
    {
     "name": "stdout",
     "output_type": "stream",
     "text": [
      "0.00010973926644129511\n"
     ]
    }
   ],
   "source": [
    "de_r2b_res = sw.sdl.execute(\"\"\"\n",
    "SEARCH(\n",
    "    VAR X SIZE(20) BOUNDED BY (-5.12, 5.12) \n",
    "    MINIMIZE SUM(X**2)\n",
    ")\n",
    "USING (\n",
    "    PARAMETERS (\n",
    "        F = 0.5 BOUNDED BY (0, 1)\n",
    "    )\n",
    "    POPULATION SIZE(40) INIT RANDOM_UNIFORM()\n",
    "    SELECT ALL (\n",
    "        USING BINOMIAL RECOMBINATION WITH PROBABILITY 0.6\n",
    "        UPDATE (\n",
    "            POS = RAND_TO_BEST(WITH PROBABILITY 0.5) + PARAM(F) * (PICK_RANDOM(UNIQUE) - PICK_RANDOM(UNIQUE)) \n",
    "        ) WHEN IMPROVED = TRUE\n",
    "    )\n",
    ")\n",
    "UNTIL (\n",
    "    GENERATION = 1000\n",
    ")\n",
    "\"\"\")"
   ]
  },
  {
   "cell_type": "markdown",
   "id": "3d00bb69",
   "metadata": {},
   "source": [
    "## DE CURRENT-TO-BEST"
   ]
  },
  {
   "cell_type": "code",
   "execution_count": 8,
   "id": "718a733c",
   "metadata": {},
   "outputs": [
    {
     "name": "stdout",
     "output_type": "stream",
     "text": [
      "0.0009101505741746135\n"
     ]
    }
   ],
   "source": [
    "de_r2b_res = sw.sdl.execute(\"\"\"\n",
    "SEARCH(\n",
    "    VAR X SIZE(20) BOUNDED BY (-5.12, 5.12) \n",
    "    MINIMIZE SUM(X**2)\n",
    ")\n",
    "USING (\n",
    "    PARAMETERS (\n",
    "        F = 0.5 BOUNDED BY (0, 1)\n",
    "    )\n",
    "    POPULATION SIZE(40) INIT RANDOM_UNIFORM()\n",
    "    SELECT ALL (\n",
    "        USING BINOMIAL RECOMBINATION WITH PROBABILITY 0.6\n",
    "        UPDATE (\n",
    "            POS = CURRENT_TO_BEST(WITH PROBABILITY 0.5) + PARAM(F) * (PICK_RANDOM(UNIQUE) - PICK_RANDOM(UNIQUE)) \n",
    "        ) WHEN IMPROVED = TRUE\n",
    "    )\n",
    ")\n",
    "UNTIL (\n",
    "    GENERATION = 1000\n",
    ")\n",
    "\"\"\")"
   ]
  },
  {
   "cell_type": "markdown",
   "id": "96602dee",
   "metadata": {},
   "source": [
    "## JAYA"
   ]
  },
  {
   "cell_type": "code",
   "execution_count": 9,
   "id": "c77cfef8",
   "metadata": {},
   "outputs": [
    {
     "name": "stdout",
     "output_type": "stream",
     "text": [
      "2.558100123801092e-12\n"
     ]
    }
   ],
   "source": [
    "jaya_res = sw.sdl.execute(\"\"\"\n",
    "SEARCH(\n",
    "    VAR X SIZE(20) BOUNDED BY (-5.12, 5.12) \n",
    "    MINIMIZE SUM(X**2)\n",
    ")\n",
    "USING (\n",
    "    POPULATION SIZE(40) INIT RANDOM_UNIFORM()\n",
    "    SELECT ALL (\n",
    "        UPDATE (\n",
    "            ABS_POS = ABS(POS)\n",
    "            POS = POS + RANDOM() * (SWARM_BEST() - ABS_POS) - RANDOM() * (SWARM_WORST() - ABS_POS)\n",
    "        ) WHEN IMPROVED = TRUE\n",
    "    )\n",
    ")\n",
    "UNTIL (\n",
    "    GENERATION = 1000\n",
    ")\n",
    "\"\"\")"
   ]
  },
  {
   "cell_type": "markdown",
   "id": "dba0e36f",
   "metadata": {},
   "source": [
    "## ABC"
   ]
  },
  {
   "cell_type": "code",
   "execution_count": 10,
   "id": "56c16546",
   "metadata": {},
   "outputs": [
    {
     "ename": "TypeError",
     "evalue": "unsupported operand type(s) for -: 'float' and 'Reference'",
     "output_type": "error",
     "traceback": [
      "\u001b[0;31m---------------------------------------------------------------------------\u001b[0m",
      "\u001b[0;31mTypeError\u001b[0m                                 Traceback (most recent call last)",
      "Cell \u001b[0;32mIn[10], line 1\u001b[0m\n\u001b[0;32m----> 1\u001b[0m abc_res \u001b[38;5;241m=\u001b[39m \u001b[43msw\u001b[49m\u001b[38;5;241;43m.\u001b[39;49m\u001b[43msdl\u001b[49m\u001b[38;5;241;43m.\u001b[39;49m\u001b[43mexecute\u001b[49m\u001b[43m(\u001b[49m\u001b[38;5;124;43m\"\"\"\u001b[39;49m\n\u001b[1;32m      2\u001b[0m \u001b[38;5;124;43mSEARCH(\u001b[39;49m\n\u001b[1;32m      3\u001b[0m \u001b[38;5;124;43m    VAR X SIZE(20) BOUNDED BY (-5.12, 5.12) \u001b[39;49m\n\u001b[1;32m      4\u001b[0m \u001b[38;5;124;43m    MINIMIZE SUM(X**2)\u001b[39;49m\n\u001b[1;32m      5\u001b[0m \u001b[38;5;124;43m)\u001b[39;49m\n\u001b[1;32m      6\u001b[0m \u001b[38;5;124;43mUSING (\u001b[39;49m\n\u001b[1;32m      7\u001b[0m \u001b[38;5;124;43m    POPULATION SIZE(40) INIT RANDOM_UNIFORM()\u001b[39;49m\n\u001b[1;32m      8\u001b[0m \u001b[38;5;124;43m    SELECT ALL (\u001b[39;49m\n\u001b[1;32m      9\u001b[0m \u001b[38;5;124;43m        USING RANDOM RECOMBINATION SIZE(1)\u001b[39;49m\n\u001b[1;32m     10\u001b[0m \u001b[38;5;124;43m        UPDATE (\u001b[39;49m\n\u001b[1;32m     11\u001b[0m \u001b[38;5;124;43m            POS = RANDOM_UNIFORM(LOW=-1, HIGH=1) * (POS - PICK_RANDOM())\u001b[39;49m\n\u001b[1;32m     12\u001b[0m \u001b[38;5;124;43m        ) WHEN IMPROVED = TRUE\u001b[39;49m\n\u001b[1;32m     13\u001b[0m \u001b[38;5;124;43m    )\u001b[39;49m\n\u001b[1;32m     14\u001b[0m \u001b[38;5;124;43m)\u001b[39;49m\n\u001b[1;32m     15\u001b[0m \u001b[38;5;124;43mUNTIL (\u001b[39;49m\n\u001b[1;32m     16\u001b[0m \u001b[38;5;124;43m    GENERATION = 1000\u001b[39;49m\n\u001b[1;32m     17\u001b[0m \u001b[38;5;124;43m)\u001b[39;49m\n\u001b[1;32m     18\u001b[0m \u001b[38;5;124;43m\"\"\"\u001b[39;49m\u001b[43m)\u001b[49m\n",
      "File \u001b[0;32m~/Code/Repositories/sipy/swarmist/sdl/sdl.py:10\u001b[0m, in \u001b[0;36mSdl.execute\u001b[0;34m(self, query)\u001b[0m\n\u001b[1;32m      8\u001b[0m \u001b[38;5;250m\u001b[39m\u001b[38;5;124;03m\"\"\"Execute a swarm search query.\"\"\"\u001b[39;00m\n\u001b[1;32m      9\u001b[0m query \u001b[38;5;241m=\u001b[39m Parser()\u001b[38;5;241m.\u001b[39mparse(query)\n\u001b[0;32m---> 10\u001b[0m \u001b[38;5;28;01mreturn\u001b[39;00m \u001b[43mquery\u001b[49m\u001b[43m(\u001b[49m\u001b[43m)\u001b[49m\n",
      "File \u001b[0;32m~/Code/Repositories/sipy/swarmist/sdl/parser.py:20\u001b[0m, in \u001b[0;36mGrammarTransformer.search.<locals>.<lambda>\u001b[0;34m()\u001b[0m\n\u001b[1;32m     18\u001b[0m \u001b[38;5;28;01mdef\u001b[39;00m \u001b[38;5;21msearch\u001b[39m(\u001b[38;5;28mself\u001b[39m, space_assets: SpaceAssets, strategy: sw\u001b[38;5;241m.\u001b[39mStrategy, stop_condition):\n\u001b[1;32m     19\u001b[0m     \u001b[38;5;28mself\u001b[39m\u001b[38;5;241m.\u001b[39m_get_var \u001b[38;5;241m=\u001b[39m space_assets\u001b[38;5;241m.\u001b[39mget_var\n\u001b[0;32m---> 20\u001b[0m     \u001b[38;5;28;01mreturn\u001b[39;00m \u001b[38;5;28;01mlambda\u001b[39;00m: \u001b[43msw\u001b[49m\u001b[38;5;241;43m.\u001b[39;49m\u001b[43msearch\u001b[49m\u001b[43m(\u001b[49m\n\u001b[1;32m     21\u001b[0m \u001b[43m        \u001b[49m\u001b[43mspace_assets\u001b[49m\u001b[38;5;241;43m.\u001b[39;49m\u001b[43mspace\u001b[49m\u001b[43m,\u001b[49m\u001b[43m \u001b[49m\n\u001b[1;32m     22\u001b[0m \u001b[43m        \u001b[49m\u001b[43msw\u001b[49m\u001b[38;5;241;43m.\u001b[39;49m\u001b[43muntil\u001b[49m\u001b[43m(\u001b[49m\u001b[38;5;241;43m*\u001b[39;49m\u001b[38;5;241;43m*\u001b[39;49m\u001b[43mstop_condition\u001b[49m\u001b[43m)\u001b[49m\u001b[43m,\u001b[49m\n\u001b[1;32m     23\u001b[0m \u001b[43m        \u001b[49m\u001b[43msw\u001b[49m\u001b[38;5;241;43m.\u001b[39;49m\u001b[43musing\u001b[49m\u001b[43m(\u001b[49m\u001b[43mstrategy\u001b[49m\u001b[43m)\u001b[49m\n\u001b[1;32m     24\u001b[0m \u001b[43m    \u001b[49m\u001b[43m)\u001b[49m\n",
      "File \u001b[0;32m~/Code/Repositories/sipy/swarmist/search.py:76\u001b[0m, in \u001b[0;36msearch\u001b[0;34m(space, until, strategy)\u001b[0m\n\u001b[1;32m     66\u001b[0m     \u001b[38;5;28;01mraise\u001b[39;00m e\n\u001b[1;32m     67\u001b[0m res: Either[\u001b[38;5;167;01mException\u001b[39;00m, SearchResults] \u001b[38;5;241m=\u001b[39m strategy()\u001b[38;5;241m.\u001b[39mthen(\n\u001b[1;32m     68\u001b[0m     \u001b[38;5;28;01mlambda\u001b[39;00m search_strategy: until()\u001b[38;5;241m.\u001b[39mthen(\n\u001b[1;32m     69\u001b[0m         \u001b[38;5;28;01mlambda\u001b[39;00m stop_condition: do_search(\n\u001b[0;32m   (...)\u001b[0m\n\u001b[1;32m     74\u001b[0m     )\n\u001b[1;32m     75\u001b[0m )\n\u001b[0;32m---> 76\u001b[0m \u001b[38;5;28;01mreturn\u001b[39;00m \u001b[43mres\u001b[49m\u001b[38;5;241;43m.\u001b[39;49m\u001b[43meither\u001b[49m\u001b[43m(\u001b[49m\u001b[43mraise_error\u001b[49m\u001b[43m,\u001b[49m\u001b[43m \u001b[49m\u001b[38;5;28;43;01mlambda\u001b[39;49;00m\u001b[43m \u001b[49m\u001b[43mres\u001b[49m\u001b[43m:\u001b[49m\u001b[43m \u001b[49m\u001b[43mres\u001b[49m\u001b[43m)\u001b[49m\n",
      "File \u001b[0;32m/opt/homebrew/lib/python3.11/site-packages/pymonad/either.py:91\u001b[0m, in \u001b[0;36mEither.either\u001b[0;34m(self, left_function, right_function)\u001b[0m\n\u001b[1;32m     89\u001b[0m     \u001b[38;5;28;01mreturn\u001b[39;00m right_function(\u001b[38;5;28mself\u001b[39m\u001b[38;5;241m.\u001b[39mvalue)\n\u001b[1;32m     90\u001b[0m \u001b[38;5;28;01melse\u001b[39;00m:\n\u001b[0;32m---> 91\u001b[0m     \u001b[38;5;28;01mreturn\u001b[39;00m \u001b[43mleft_function\u001b[49m\u001b[43m(\u001b[49m\u001b[38;5;28;43mself\u001b[39;49m\u001b[38;5;241;43m.\u001b[39;49m\u001b[43mmonoid\u001b[49m\u001b[43m[\u001b[49m\u001b[38;5;241;43m0\u001b[39;49m\u001b[43m]\u001b[49m\u001b[43m)\u001b[49m\n",
      "File \u001b[0;32m~/Code/Repositories/sipy/swarmist/search.py:66\u001b[0m, in \u001b[0;36msearch.<locals>.raise_error\u001b[0;34m(e)\u001b[0m\n\u001b[1;32m     65\u001b[0m \u001b[38;5;28;01mdef\u001b[39;00m \u001b[38;5;21mraise_error\u001b[39m(e: \u001b[38;5;167;01mException\u001b[39;00m):\n\u001b[0;32m---> 66\u001b[0m     \u001b[38;5;28;01mraise\u001b[39;00m e\n",
      "File \u001b[0;32m~/Code/Repositories/sipy/swarmist/core/executor.py:56\u001b[0m, in \u001b[0;36mSearchExecutor.evolve\u001b[0;34m(self, population)\u001b[0m\n\u001b[1;32m     54\u001b[0m \u001b[38;5;28;01mtry\u001b[39;00m: \n\u001b[1;32m     55\u001b[0m     \u001b[38;5;28;01mwhile\u001b[39;00m \u001b[38;5;28mself\u001b[39m\u001b[38;5;241m.\u001b[39m_next():\n\u001b[0;32m---> 56\u001b[0m         \u001b[43mpopulation\u001b[49m\u001b[38;5;241;43m.\u001b[39;49m\u001b[43mupdate\u001b[49m\u001b[43m(\u001b[49m\u001b[38;5;28;43mself\u001b[39;49m\u001b[38;5;241;43m.\u001b[39;49m\u001b[43mcontext\u001b[49m\u001b[43m(\u001b[49m\u001b[43m)\u001b[49m\u001b[43m)\u001b[49m\n\u001b[1;32m     57\u001b[0m \u001b[38;5;28;01mexcept\u001b[39;00m \u001b[38;5;167;01mException\u001b[39;00m \u001b[38;5;28;01mas\u001b[39;00m e: \n\u001b[1;32m     58\u001b[0m     \u001b[38;5;28;01mif\u001b[39;00m \u001b[38;5;129;01mnot\u001b[39;00m \u001b[38;5;28misinstance\u001b[39m(e, SearchEnded):\n",
      "File \u001b[0;32m~/Code/Repositories/sipy/swarmist/core/population.py:65\u001b[0m, in \u001b[0;36mPopulation.update\u001b[0;34m(self, ctx)\u001b[0m\n\u001b[1;32m     63\u001b[0m     \u001b[38;5;28;01mcontinue\u001b[39;00m\n\u001b[1;32m     64\u001b[0m \u001b[38;5;28;01mfor\u001b[39;00m agent \u001b[38;5;129;01min\u001b[39;00m to_update:\n\u001b[0;32m---> 65\u001b[0m     new_agent \u001b[38;5;241m=\u001b[39m \u001b[38;5;28;43mself\u001b[39;49m\u001b[38;5;241;43m.\u001b[39;49m\u001b[43m_get_updated_agent\u001b[49m\u001b[43m(\u001b[49m\u001b[43magent\u001b[49m\u001b[43m,\u001b[49m\u001b[43m \u001b[49m\u001b[43mupdate\u001b[49m\u001b[43m,\u001b[49m\u001b[43m \u001b[49m\u001b[43mctx\u001b[49m\u001b[43m)\u001b[49m\n\u001b[1;32m     66\u001b[0m     \u001b[38;5;28mself\u001b[39m\u001b[38;5;241m.\u001b[39m_agents[new_agent\u001b[38;5;241m.\u001b[39mindex] \u001b[38;5;241m=\u001b[39m new_agent\n\u001b[1;32m     67\u001b[0m \u001b[38;5;28mself\u001b[39m\u001b[38;5;241m.\u001b[39mrank(ctx)\n",
      "File \u001b[0;32m~/Code/Repositories/sipy/swarmist/core/population.py:74\u001b[0m, in \u001b[0;36mPopulation._get_updated_agent\u001b[0;34m(self, agent, update, ctx)\u001b[0m\n\u001b[1;32m     69\u001b[0m \u001b[38;5;28;01mdef\u001b[39;00m \u001b[38;5;21m_get_updated_agent\u001b[39m(\n\u001b[1;32m     70\u001b[0m     \u001b[38;5;28mself\u001b[39m, agent: Agent, update: Update, ctx: SearchContext\n\u001b[1;32m     71\u001b[0m ) \u001b[38;5;241m-\u001b[39m\u001b[38;5;241m>\u001b[39m Agent:\n\u001b[1;32m     72\u001b[0m     info \u001b[38;5;241m=\u001b[39m UpdateInfo\u001b[38;5;241m.\u001b[39mof(agent, \u001b[38;5;28mself\u001b[39m\u001b[38;5;241m.\u001b[39m_ranking\u001b[38;5;241m.\u001b[39mgroup_info[agent\u001b[38;5;241m.\u001b[39mindex], ctx\u001b[38;5;241m=\u001b[39mctx)\n\u001b[1;32m     73\u001b[0m     \u001b[38;5;28;01mreturn\u001b[39;00m \u001b[38;5;28mself\u001b[39m\u001b[38;5;241m.\u001b[39m_evaluate_and_get(\n\u001b[0;32m---> 74\u001b[0m         agent\u001b[38;5;241m=\u001b[39mupdate\u001b[38;5;241m.\u001b[39mrecombination(agent, \u001b[43mupdate\u001b[49m\u001b[38;5;241;43m.\u001b[39;49m\u001b[43meditor\u001b[49m\u001b[43m(\u001b[49m\u001b[43minfo\u001b[49m\u001b[43m)\u001b[49m),\n\u001b[1;32m     75\u001b[0m         old_agent\u001b[38;5;241m=\u001b[39magent,\n\u001b[1;32m     76\u001b[0m         condition\u001b[38;5;241m=\u001b[39mupdate\u001b[38;5;241m.\u001b[39mcondition,\n\u001b[1;32m     77\u001b[0m     )\n",
      "File \u001b[0;32m~/Code/Repositories/sipy/swarmist/update.py:131\u001b[0m, in \u001b[0;36mUpdateBuilder.get.<locals>.update\u001b[0;34m(ctx)\u001b[0m\n\u001b[1;32m    129\u001b[0m \u001b[38;5;28;01mfor\u001b[39;00m key, value \u001b[38;5;129;01min\u001b[39;00m \u001b[38;5;28mself\u001b[39m\u001b[38;5;241m.\u001b[39mhelpers\u001b[38;5;241m.\u001b[39mitems():\n\u001b[1;32m    130\u001b[0m       \u001b[38;5;28mvars\u001b[39m[key] \u001b[38;5;241m=\u001b[39m value(_ctx)\n\u001b[0;32m--> 131\u001b[0m \u001b[38;5;28;01mreturn\u001b[39;00m \u001b[38;5;28;43mself\u001b[39;49m\u001b[38;5;241;43m.\u001b[39;49m\u001b[43mpos_editor\u001b[49m\u001b[43m(\u001b[49m\u001b[43m_ctx\u001b[49m\u001b[43m)\u001b[49m\n",
      "File \u001b[0;32m~/Code/Repositories/sipy/swarmist/sdl/expressions/math_expressions.py:63\u001b[0m, in \u001b[0;36mMathExpressions.mul.<locals>.<lambda>\u001b[0;34m(ctx)\u001b[0m\n\u001b[1;32m     62\u001b[0m \u001b[38;5;28;01mdef\u001b[39;00m \u001b[38;5;21mmul\u001b[39m(\u001b[38;5;28mself\u001b[39m, x, y):\n\u001b[0;32m---> 63\u001b[0m     \u001b[38;5;28;01mreturn\u001b[39;00m \u001b[38;5;28;01mlambda\u001b[39;00m ctx\u001b[38;5;241m=\u001b[39m\u001b[38;5;28;01mNone\u001b[39;00m: fetch_value(x, ctx) \u001b[38;5;241m*\u001b[39m \u001b[43mfetch_value\u001b[49m\u001b[43m(\u001b[49m\u001b[43my\u001b[49m\u001b[43m,\u001b[49m\u001b[43m \u001b[49m\u001b[43mctx\u001b[49m\u001b[43m)\u001b[49m\n",
      "File \u001b[0;32m~/Code/Repositories/sipy/swarmist/sdl/expressions/expressions.py:41\u001b[0m, in \u001b[0;36mfetch_value\u001b[0;34m(x, ctx)\u001b[0m\n\u001b[1;32m     39\u001b[0m \u001b[38;5;28;01mdef\u001b[39;00m \u001b[38;5;21mfetch_value\u001b[39m(x, ctx\u001b[38;5;241m=\u001b[39m\u001b[38;5;28;01mNone\u001b[39;00m):\n\u001b[1;32m     40\u001b[0m     \u001b[38;5;28;01mif\u001b[39;00m \u001b[38;5;28mcallable\u001b[39m(x):\n\u001b[0;32m---> 41\u001b[0m         \u001b[38;5;28;01mreturn\u001b[39;00m \u001b[43mx\u001b[49m\u001b[43m(\u001b[49m\u001b[43mctx\u001b[49m\u001b[43m)\u001b[49m\n\u001b[1;32m     42\u001b[0m     \u001b[38;5;28;01mreturn\u001b[39;00m x\n",
      "File \u001b[0;32m~/Code/Repositories/sipy/swarmist/sdl/expressions/math_expressions.py:60\u001b[0m, in \u001b[0;36mMathExpressions.sub.<locals>.<lambda>\u001b[0;34m(ctx)\u001b[0m\n\u001b[1;32m     59\u001b[0m \u001b[38;5;28;01mdef\u001b[39;00m \u001b[38;5;21msub\u001b[39m(\u001b[38;5;28mself\u001b[39m, x, y):\n\u001b[0;32m---> 60\u001b[0m     \u001b[38;5;28;01mreturn\u001b[39;00m \u001b[38;5;28;01mlambda\u001b[39;00m ctx\u001b[38;5;241m=\u001b[39m\u001b[38;5;28;01mNone\u001b[39;00m: \u001b[43mfetch_value\u001b[49m\u001b[43m(\u001b[49m\u001b[43mx\u001b[49m\u001b[43m,\u001b[49m\u001b[43m \u001b[49m\u001b[43mctx\u001b[49m\u001b[43m)\u001b[49m\u001b[43m \u001b[49m\u001b[38;5;241;43m-\u001b[39;49m\u001b[43m \u001b[49m\u001b[43mfetch_value\u001b[49m\u001b[43m(\u001b[49m\u001b[43my\u001b[49m\u001b[43m,\u001b[49m\u001b[43m \u001b[49m\u001b[43mctx\u001b[49m\u001b[43m)\u001b[49m\n",
      "\u001b[0;31mTypeError\u001b[0m: unsupported operand type(s) for -: 'float' and 'Reference'"
     ]
    }
   ],
   "source": [
    "abc_res = sw.sdl.execute(\"\"\"\n",
    "SEARCH(\n",
    "    VAR X SIZE(20) BOUNDED BY (-5.12, 5.12) \n",
    "    MINIMIZE SUM(X**2)\n",
    ")\n",
    "USING (\n",
    "    POPULATION SIZE(40) INIT RANDOM_UNIFORM()\n",
    "    SELECT ALL (\n",
    "        USING RANDOM RECOMBINATION SIZE(1)\n",
    "        UPDATE (\n",
    "            POS = RANDOM_UNIFORM(LOW=-1, HIGH=1) * (POS - PICK_RANDOM())\n",
    "        ) WHEN IMPROVED = TRUE\n",
    "    )\n",
    ")\n",
    "UNTIL (\n",
    "    GENERATION = 1000\n",
    ")\n",
    "\"\"\")"
   ]
  },
  {
   "cell_type": "code",
   "execution_count": null,
   "id": "ec361cf0",
   "metadata": {},
   "outputs": [],
   "source": []
  }
 ],
 "metadata": {
  "kernelspec": {
   "display_name": "Python 3 (ipykernel)",
   "language": "python",
   "name": "python3"
  },
  "language_info": {
   "codemirror_mode": {
    "name": "ipython",
    "version": 3
   },
   "file_extension": ".py",
   "mimetype": "text/x-python",
   "name": "python",
   "nbconvert_exporter": "python",
   "pygments_lexer": "ipython3",
   "version": "3.11.3"
  }
 },
 "nbformat": 4,
 "nbformat_minor": 5
}
