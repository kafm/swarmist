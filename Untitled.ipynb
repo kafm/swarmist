{
 "cells": [
  {
   "cell_type": "code",
   "execution_count": 1,
   "id": "1e34f7e5",
   "metadata": {},
   "outputs": [],
   "source": [
    "import sys\n",
    "sys.path.insert(0, '.')\n",
    "import swarmist as sw"
   ]
  },
  {
   "cell_type": "markdown",
   "id": "254f088a",
   "metadata": {},
   "source": [
    "## PSO"
   ]
  },
  {
   "cell_type": "code",
   "execution_count": 4,
   "id": "874b0396",
   "metadata": {},
   "outputs": [
    {
     "name": "stdout",
     "output_type": "stream",
     "text": [
      "1.0536191381388912e-30\n"
     ]
    }
   ],
   "source": [
    "pso_res = sw.sdl.execute(\"\"\"\n",
    "SEARCH(\n",
    "    VAR X SIZE(20) BOUNDED BY (-5.12, 5.12) \n",
    "    MINIMIZE SUM(X**2)\n",
    ")\n",
    "USING (\n",
    "    PARAMETERS (\n",
    "        C1 = 2.05 BOUNDED BY (0, 8)\n",
    "        C2 = 2.05 BOUNDED BY (0, 8) \n",
    "        CHI = 0.7298 BOUNDED BY (0, 1)\n",
    "    )\n",
    "    POPULATION SIZE(40) INIT RANDOM_UNIFORM()\n",
    "    SELECT ALL (\n",
    "        UPDATE (\n",
    "            VELOCITY= PARAM(CHI) * (\n",
    "                DELTA \n",
    "                + PARAM(C1) * RANDOM() * (BEST-POS)\n",
    "                + PARAM(C2) * RANDOM() * (SWARM_BEST()-POS)\n",
    "            )\n",
    "            POS = POS + VELOCITY\n",
    "        ) \n",
    "    )\n",
    ")\n",
    "UNTIL (\n",
    "    GENERATION = 1000\n",
    ")\n",
    "\"\"\")"
   ]
  },
  {
   "cell_type": "markdown",
   "id": "b6990c24",
   "metadata": {},
   "source": [
    "## BB"
   ]
  },
  {
   "cell_type": "code",
   "execution_count": 6,
   "id": "97e130bd",
   "metadata": {},
   "outputs": [
    {
     "name": "stdout",
     "output_type": "stream",
     "text": [
      "6.364622944205902e-33\n"
     ]
    }
   ],
   "source": [
    "bb_res = sw.sdl.execute(\"\"\"\n",
    "SEARCH(\n",
    "    VAR X SIZE(20) BOUNDED BY (-5.12, 5.12) \n",
    "    MINIMIZE SUM(X**2)\n",
    ")\n",
    "USING (\n",
    "    POPULATION SIZE(40) INIT RANDOM_UNIFORM()\n",
    "    SELECT ALL (\n",
    "        UPDATE (\n",
    "            MU= (SWARM_BEST()+BEST)/2\n",
    "            SD = ABS(SWARM_BEST()-BEST)\n",
    "            POS = RANDOM_NORMAL(LOC=MU, SCALE=SD)\n",
    "        ) \n",
    "    )\n",
    ")\n",
    "UNTIL (\n",
    "    GENERATION = 1000\n",
    ")\n",
    "\"\"\")"
   ]
  },
  {
   "cell_type": "markdown",
   "id": "0afcf27d",
   "metadata": {},
   "source": [
    "## FIPS"
   ]
  },
  {
   "cell_type": "code",
   "execution_count": null,
   "id": "2f487134",
   "metadata": {},
   "outputs": [],
   "source": [
    "#TODO ADD LEN METHOD\n",
    "fips_res = sw.sdl.execute(\"\"\"\n",
    "SEARCH(\n",
    "    VAR X SIZE(20) BOUNDED BY (-5.12, 5.12) \n",
    "    MINIMIZE SUM(X**2)\n",
    ")\n",
    "USING (\n",
    "    PARAMETERS (\n",
    "        C1 = 2.05 BOUNDED BY (0, 8)\n",
    "        C2 = 2.05 BOUNDED BY (0, 8) \n",
    "        CHI = 0.7298 BOUNDED BY (0, 1)\n",
    "    )\n",
    "    POPULATION SIZE(40) INIT RANDOM_UNIFORM()\n",
    "    SELECT ALL (\n",
    "        UPDATE (\n",
    "            NEIGHBORS = NEIGHBORHOOD()\n",
    "            PHI = PARAM(C1) + PARAM(C2)\n",
    "            N = COUNT(NEIGHBORS)\n",
    "            W = RANDOM(SIZE=N)\n",
    "            SCT = RANDOM() * (PHI/N) * W * ( ((NEIGHBORS * W)/W) - POS )\n",
    "            VELOCITY = PARAM(CHI) * (DELTA + sct)\n",
    "            POS = RANDOM_NORMAL(LOC=MU, SCALE=SD)\n",
    "        ) \n",
    "    )\n",
    ")\n",
    "UNTIL (\n",
    "    GENERATION = 1000\n",
    ")\n",
    "\"\"\")"
   ]
  }
 ],
 "metadata": {
  "kernelspec": {
   "display_name": "Python 3 (ipykernel)",
   "language": "python",
   "name": "python3"
  },
  "language_info": {
   "codemirror_mode": {
    "name": "ipython",
    "version": 3
   },
   "file_extension": ".py",
   "mimetype": "text/x-python",
   "name": "python",
   "nbconvert_exporter": "python",
   "pygments_lexer": "ipython3",
   "version": "3.11.3"
  }
 },
 "nbformat": 4,
 "nbformat_minor": 5
}
