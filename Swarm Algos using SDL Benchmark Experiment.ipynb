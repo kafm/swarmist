{
 "cells": [
  {
   "cell_type": "code",
   "execution_count": 1,
   "id": "1e34f7e5",
   "metadata": {},
   "outputs": [],
   "source": [
    "import sys\n",
    "sys.path.insert(0, '.')\n",
    "import swarmist as sw\n",
    "import pandas as pd\n",
    "algos = {}"
   ]
  },
  {
   "cell_type": "markdown",
   "id": "62f643f3",
   "metadata": {},
   "source": [
    "## PSO"
   ]
  },
  {
   "cell_type": "code",
   "execution_count": 2,
   "id": "8708d1cd",
   "metadata": {},
   "outputs": [],
   "source": [
    "algos[\"PSO\"] = sw.sdl.strategy(\"\"\"\n",
    "PARAMETERS (\n",
    "    C1 = 2.05 BOUNDED BY (0, 8)\n",
    "    C2 = 2.05 BOUNDED BY (0, 8) \n",
    "    CHI = 0.7298 BOUNDED BY (0, 1)\n",
    ")\n",
    "POPULATION SIZE(40) INIT RANDOM_UNIFORM()\n",
    "SELECT ALL (\n",
    "    UPDATE (\n",
    "        VELOCITY= PARAM(CHI) * (\n",
    "            DELTA \n",
    "            + PARAM(C1) * RANDOM() * (BEST-POS)\n",
    "            + PARAM(C2) * RANDOM() * (SWARM_BEST()-POS)\n",
    "        )\n",
    "        POS = POS + VELOCITY\n",
    "    ) \n",
    ")\n",
    "\"\"\")"
   ]
  },
  {
   "cell_type": "markdown",
   "id": "c7ec267e",
   "metadata": {},
   "source": [
    "## BB"
   ]
  },
  {
   "cell_type": "code",
   "execution_count": 3,
   "id": "11c8f41b",
   "metadata": {},
   "outputs": [],
   "source": [
    "algos[\"BB\"] = sw.sdl.strategy(\"\"\"\n",
    "POPULATION SIZE(40) INIT RANDOM_UNIFORM()\n",
    "SELECT ALL (\n",
    "    UPDATE (\n",
    "        MU= (SWARM_BEST()+BEST)/2\n",
    "        SD = ABS(SWARM_BEST()-BEST)\n",
    "        POS = RANDOM_NORMAL(LOC=MU, SCALE=SD)\n",
    "    ) WHEN IMPROVED = TRUE\n",
    ")\n",
    "\"\"\")"
   ]
  },
  {
   "cell_type": "markdown",
   "id": "d84fa146",
   "metadata": {},
   "source": [
    "## FIPS"
   ]
  },
  {
   "cell_type": "code",
   "execution_count": 4,
   "id": "c4f7a428",
   "metadata": {},
   "outputs": [],
   "source": [
    "algos[\"FIPS\"] = sw.sdl.strategy(\"\"\"\n",
    "PARAMETERS (\n",
    "    PHI = 4.1 BOUNDED BY (0, 8)\n",
    "    CHI = 0.7298 BOUNDED BY (0, 1)\n",
    ")\n",
    "POPULATION SIZE(40) INIT RANDOM_UNIFORM() WITH TOPOLOGY LBEST SIZE(2)\n",
    "SELECT ALL (\n",
    "    UPDATE (\n",
    "        NEIGHBORS = NEIGHBORHOOD()\n",
    "        N = COUNT(NEIGHBORS)\n",
    "        W = RANDOM(SIZE=N)\n",
    "        PHI = SUM(W) * (PARAM(PHI) / N)\n",
    "        PM = AVG(NEIGHBORS, W)\n",
    "        SCT = PHI * (PM - POS)\n",
    "        POS = POS + PARAM(CHI) * (DELTA + SCT)\n",
    "    ) \n",
    ")\n",
    "\"\"\")"
   ]
  },
  {
   "cell_type": "markdown",
   "id": "2709ca56",
   "metadata": {},
   "source": [
    "## DE (Binomial)"
   ]
  },
  {
   "cell_type": "code",
   "execution_count": 5,
   "id": "3fa76c9a",
   "metadata": {},
   "outputs": [],
   "source": [
    "algos[\"DE\"] = sw.sdl.strategy(\"\"\"\n",
    "PARAMETERS (\n",
    "    F = 0.5 BOUNDED BY (0, 1)\n",
    ")\n",
    "POPULATION SIZE(40) INIT RANDOM_UNIFORM()\n",
    "SELECT ALL (\n",
    "    USING BINOMIAL RECOMBINATION WITH PROBABILITY 0.6\n",
    "    UPDATE (\n",
    "        POS = PICK_RANDOM(UNIQUE) + PARAM(F) * (PICK_RANDOM(UNIQUE) - PICK_RANDOM(UNIQUE)) \n",
    "    ) WHEN IMPROVED = TRUE\n",
    ")\n",
    "\"\"\")"
   ]
  },
  {
   "cell_type": "markdown",
   "id": "96602dee",
   "metadata": {},
   "source": [
    "## JAYA"
   ]
  },
  {
   "cell_type": "code",
   "execution_count": 6,
   "id": "c77cfef8",
   "metadata": {},
   "outputs": [],
   "source": [
    "algos[\"JAYA\"] = sw.sdl.strategy(\"\"\"\n",
    "POPULATION SIZE(40) INIT RANDOM_UNIFORM()\n",
    "SELECT ALL (\n",
    "    UPDATE (\n",
    "        ABS_POS = ABS(POS)\n",
    "        POS = POS + RANDOM() * (SWARM_BEST() - ABS_POS) - RANDOM() * (SWARM_WORST() - ABS_POS)\n",
    "    ) WHEN IMPROVED = TRUE\n",
    ")\n",
    "\"\"\")"
   ]
  },
  {
   "cell_type": "markdown",
   "id": "dba0e36f",
   "metadata": {},
   "source": [
    "## ABC"
   ]
  },
  {
   "cell_type": "code",
   "execution_count": 7,
   "id": "56c16546",
   "metadata": {},
   "outputs": [],
   "source": [
    "algos[\"ABC\"] = sw.sdl.strategy(\"\"\"\n",
    "POPULATION SIZE(40) INIT RANDOM_UNIFORM()\n",
    "SELECT ALL (\n",
    "    USING RANDOM RECOMBINATION SIZE(1)\n",
    "    UPDATE (\n",
    "        POS = RANDOM_UNIFORM(LOW=-1, HIGH=1) * (POS - PICK_RANDOM())\n",
    "    ) WHEN IMPROVED = TRUE\n",
    ")\n",
    "SELECT SIZE(1) WHERE TRIALS > POPULATION_SIZE*NDIMS ORDER BY TRIALS DESC (\n",
    "    INIT RANDOM_UNIFORM()\n",
    ")\n",
    "\"\"\")"
   ]
  },
  {
   "cell_type": "markdown",
   "id": "362a80a1",
   "metadata": {},
   "source": [
    "## CS"
   ]
  },
  {
   "cell_type": "code",
   "execution_count": 8,
   "id": "ef10b57d",
   "metadata": {},
   "outputs": [],
   "source": [
    "algos[\"CS\"] = sw.sdl.strategy(\"\"\"\n",
    "PARAMETERS (\n",
    "    PA = 0.25 BOUNDED BY (0, 1)\n",
    "    ALPHA = 1 BOUNDED BY (0, 1)\n",
    "    MU = 1.5 BOUNDED BY (0,3)\n",
    ")\n",
    "POPULATION SIZE(40) INIT RANDOM_UNIFORM()\n",
    "SELECT ALL (\n",
    "    UPDATE (\n",
    "        POS = POS + PARAM(ALPHA) * RANDOM_LEVY(LOC=PARAM(MU)) * (POS - SWARM_BEST())\n",
    "    ) WHEN IMPROVED = TRUE\n",
    ")\n",
    "SELECT ALL (\n",
    "    USING RECOMBINATION WITH PROBABILITY PARAM(PA)\n",
    "    UPDATE (\n",
    "        POS = POS + RANDOM() * (PICK_RANDOM(UNIQUE) - PICK_RANDOM(UNIQUE))\n",
    "    ) WHEN IMPROVED = TRUE\n",
    ")\n",
    "\"\"\")"
   ]
  },
  {
   "cell_type": "markdown",
   "id": "2f59a29d",
   "metadata": {},
   "source": [
    "## FF"
   ]
  },
  {
   "cell_type": "code",
   "execution_count": 9,
   "id": "bb34b999",
   "metadata": {},
   "outputs": [],
   "source": [
    "algos[\"FF\"] = sw.sdl.strategy(\"\"\"\n",
    "PARAMETERS (\n",
    "    ALPHA = 1 BOUNDED BY (0, 2)\n",
    "    DELTA = 0.97 BOUNDED BY (0, 1)\n",
    "    BETA = 1 BOUNDED BY (0, 2)\n",
    "    GAMMA = 0.01 BOUNDED BY (0, 1)\n",
    ")\n",
    "POPULATION SIZE(40) INIT RANDOM_UNIFORM()\n",
    "SELECT ALL (\n",
    "    UPDATE (\n",
    "        ALPHA = ( PARAM(ALPHA) * PARAM(DELTA) ) ** CURR_GEN\n",
    "        VALUES = MAP(ALL(), (REF) => IF_THEN(REF.FIT < FIT, REF.POS, 0))\n",
    "        POS = REDUCE(\n",
    "            VALUES, \n",
    "            (ACC, VAL) => ACC + (\n",
    "                ( PARAM(BETA) * EXP( -1 * PARAM(GAMMA) * (VAL - ACC)**2 ))\n",
    "                * (VAL - ACC) + ALPHA * RANDOM_UNIFORM(LOW=-1, HIGH=1)\n",
    "            ),\n",
    "            POS\n",
    "        )\n",
    "    )\n",
    ")\n",
    "\"\"\")"
   ]
  },
  {
   "cell_type": "markdown",
   "id": "01d742ea",
   "metadata": {},
   "source": [
    "## GWO"
   ]
  },
  {
   "cell_type": "code",
   "execution_count": 10,
   "id": "805f7150",
   "metadata": {},
   "outputs": [],
   "source": [
    "algos[\"GWO\"] = sw.sdl.strategy(\"\"\"\n",
    "PARAMETERS (\n",
    "    A = 2 BOUNDED BY (0, 10)\n",
    ")\n",
    "POPULATION SIZE(40) INIT RANDOM_UNIFORM()\n",
    "SELECT ALL (\n",
    "    UPDATE (\n",
    "        A = PARAM(A) - CURR_GEN * ( PARAM(A) / MAX_GEN ) \n",
    "        POS = AVG(\n",
    "            REDUCE(\n",
    "                SWARM_BEST(3), \n",
    "                (ACC, REF) => ACC + ( A * ABS( (2 * RANDOM()) * REF.POS - POS) ),\n",
    "                0\n",
    "            )\n",
    "        )\n",
    "    ) WHEN IMPROVED = TRUE\n",
    ")\n",
    "\"\"\")"
   ]
  },
  {
   "cell_type": "markdown",
   "id": "0ef92d14",
   "metadata": {},
   "source": [
    "## SCA"
   ]
  },
  {
   "cell_type": "code",
   "execution_count": 11,
   "id": "9dd1dc19",
   "metadata": {},
   "outputs": [],
   "source": [
    "algos[\"SCA\"] = sw.sdl.strategy(\"\"\"\n",
    "PARAMETERS (\n",
    "    A = 2 BOUNDED BY (0, 10)\n",
    ")\n",
    "POPULATION SIZE(40) INIT RANDOM_UNIFORM()\n",
    "SELECT ALL (\n",
    "    UPDATE (\n",
    "        A = PARAM(A) - CURR_GEN * ( PARAM(A) / MAX_GEN )\n",
    "        SC = REPEAT(\n",
    "            IF_THEN(\n",
    "                RANDOM(SIZE=1) < 0.5, \n",
    "                SIN( RANDOM_UNIFORM(LOW=0, HIGH=2*PI(), SIZE=1) ),\n",
    "                COS( RANDOM_UNIFORM(LOW=0, HIGH=2*PI(), SIZE=1) )\n",
    "            ), \n",
    "            NDIMS) \n",
    "        POS = POS + ( A * SC * ABS( RANDOM() * SWARM_BEST() - POS ) ) \n",
    "    ) WHEN IMPROVED = TRUE\n",
    ")\n",
    "\"\"\")"
   ]
  },
  {
   "cell_type": "markdown",
   "id": "38d0c379",
   "metadata": {},
   "source": [
    "## TLBO"
   ]
  },
  {
   "cell_type": "code",
   "execution_count": 12,
   "id": "4e5a740a",
   "metadata": {},
   "outputs": [],
   "source": [
    "algos[\"TLBO\"] = sw.sdl.strategy(\"\"\"\n",
    "PARAMETERS (\n",
    "    A = 2 BOUNDED BY (0, 10)\n",
    ")\n",
    "POPULATION SIZE(40) INIT RANDOM_UNIFORM()\n",
    "SELECT ALL (\n",
    "    UPDATE (\n",
    "        TF = IF_THEN(RANDOM(SIZE=1) < 0.5, 1, 2)\n",
    "        POS = POS + ( RANDOM() * ( SWARM_BEST() - TF*AVG(ALL()) ) ) \n",
    "    ) WHEN IMPROVED = TRUE\n",
    ")\n",
    "SELECT ALL (\n",
    "    UPDATE (\n",
    "        POS = REDUCE(\n",
    "            PICK_RANDOM(UNIQUE),\n",
    "            (ACC, REF) => ACC + IF_THEN(\n",
    "                REF.FIT < FIT,\n",
    "                RANDOM() * (REF.POS - POS),\n",
    "                RANDOM() * (POS - REF.POS)\n",
    "            ),\n",
    "            POS\n",
    "        )\n",
    "    ) WHEN IMPROVED = TRUE\n",
    ")\n",
    "\"\"\")"
   ]
  },
  {
   "cell_type": "markdown",
   "id": "c4eecabe",
   "metadata": {},
   "source": [
    "## WO"
   ]
  },
  {
   "cell_type": "code",
   "execution_count": 13,
   "id": "386efab6",
   "metadata": {},
   "outputs": [],
   "source": [
    "algos[\"WO\"] = sw.sdl.strategy(\"\"\"\n",
    "PARAMETERS (\n",
    "    A = 2 BOUNDED BY (0, 10)\n",
    "    BETA = .5 BOUNDED BY (0,1) \n",
    ")\n",
    "POPULATION SIZE(40) INIT RANDOM_UNIFORM()\n",
    "SELECT ALL (\n",
    "    UPDATE (\n",
    "        a = PARAM(A) - CURR_GEN * ( PARAM(A) / MAX_GEN )\n",
    "        A = 2 * ( a * RANDOM() ) - a\n",
    "        ATTACK = IF_THEN(RANDOM(SIZE=1) <.5, TRUE, FALSE)\n",
    "        REF = IF_THEN( ATTACK = TRUE AND NORM(A) < 1, PICK_RANDOM(UNIQUE), SWARM_BEST() )\n",
    "        L = IF_THEN(ATTACK = TRUE,  RANDOM_UNIFORM(LOW=-1, HIGH=1), 0)\n",
    "        D = IF_THEN(\n",
    "            ATTACK = TRUE, \n",
    "            ABS( REF - POS ), \n",
    "            ABS( (2 * RANDOM()) * REF - POS )\n",
    "        )\n",
    "        POS = IF_THEN(\n",
    "            ATTACK = TRUE,\n",
    "            D * EXP( PARAM(BETA) * L ) * COS( 2 * PI() * L ) + REF,\n",
    "            REF - A * D\n",
    "        )\n",
    "    ) WHEN IMPROVED = TRUE\n",
    ")\n",
    "\"\"\")"
   ]
  },
  {
   "cell_type": "markdown",
   "id": "62984d19",
   "metadata": {},
   "source": [
    "## Setup"
   ]
  },
  {
   "cell_type": "code",
   "execution_count": null,
   "id": "7bdd32c4",
   "metadata": {},
   "outputs": [],
   "source": [
    "problems = {\n",
    "    \"Sphere\": sw.benchmark.sphere(),\n",
    "    \"Ackley\": sw.benchmark.ackley(),\n",
    "    \"Griewank\": sw.benchmark.griewank(),\n",
    "    \"Rastrigin\": sw.benchmark.rastrigin(),\n",
    "    \"Schwefel\": sw.benchmark.schwefel(),\n",
    "    \"Rosenbrock\": sw.benchmark.rosenbrock(),\n",
    "    \"Michalewicz\": sw.benchmark.michalewicz()\n",
    "}\n",
    "numDimensions = 30\n",
    "numExperiences = 2\n",
    "maxEvals = 50000\n",
    "results = []\n",
    "\n",
    "def runExperience(\n",
    "    problem_name,\n",
    "    problem_impl, \n",
    "    problem_bounds,\n",
    "    exp_num\n",
    "):\n",
    "    run_res = []\n",
    "    for algo, st in algos.items():\n",
    "        fit = sw.search(\n",
    "                sw.minimize(problem, bounds, dimensions=numDimensions),\n",
    "                sw.until(max_evals=maxEvals),\n",
    "                sw.using(st)\n",
    "            )[-1].fit\n",
    "        run_res.append({\n",
    "            \"num_exp\": exp_num,\n",
    "            \"problem\": problem_name,\n",
    "            \"algo\": algo,\n",
    "            \"fit\": fit\n",
    "        })\n",
    "    return run_res"
   ]
  },
  {
   "cell_type": "markdown",
   "id": "73933066",
   "metadata": {},
   "source": [
    "## Run experiment"
   ]
  },
  {
   "cell_type": "code",
   "execution_count": 16,
   "id": "00420071",
   "metadata": {},
   "outputs": [
    {
     "ename": "TypingError",
     "evalue": "Failed in nopython mode pipeline (step: nopython frontend)\nNo implementation of function Function(<built-in function sum>) found for signature:\n \n >>> sum(float64)\n \nThere are 2 candidate implementations:\n  - Of which 2 did not match due to:\n  Overload of function 'sum': File: numba/cpython/builtins.py: Line 685.\n    With argument(s): '(float64)':\n   No match.\n\nDuring: resolving callee type: Function(<built-in function sum>)\nDuring: typing of call at /Users/kam/Code/Repositories/sipy/swarmist/utils/benchmark.py (12)\n\n\nFile \"swarmist/utils/benchmark.py\", line 12:\ndef njitSphere(x, opposite):\n    evl = sum(x ** 2)\n    ^\n",
     "output_type": "error",
     "traceback": [
      "\u001b[0;31m---------------------------------------------------------------------------\u001b[0m",
      "\u001b[0;31mTypingError\u001b[0m                               Traceback (most recent call last)",
      "Cell \u001b[0;32mIn[16], line 5\u001b[0m\n\u001b[1;32m      2\u001b[0m problem, bounds \u001b[38;5;241m=\u001b[39m problems[problem_name]\n\u001b[1;32m      4\u001b[0m \u001b[38;5;28;01mfor\u001b[39;00m i \u001b[38;5;129;01min\u001b[39;00m \u001b[38;5;28mrange\u001b[39m(numExperiences):\n\u001b[0;32m----> 5\u001b[0m     results \u001b[38;5;241m+\u001b[39m\u001b[38;5;241m=\u001b[39m \u001b[43mrunExperience\u001b[49m\u001b[43m(\u001b[49m\n\u001b[1;32m      6\u001b[0m \u001b[43m        \u001b[49m\u001b[43mproblem_name\u001b[49m\u001b[43m,\u001b[49m\n\u001b[1;32m      7\u001b[0m \u001b[43m        \u001b[49m\u001b[43mproblem\u001b[49m\u001b[43m,\u001b[49m\u001b[43m \u001b[49m\n\u001b[1;32m      8\u001b[0m \u001b[43m        \u001b[49m\u001b[43mbounds\u001b[49m\u001b[43m,\u001b[49m\n\u001b[1;32m      9\u001b[0m \u001b[43m        \u001b[49m\u001b[38;5;241;43m1\u001b[39;49m\n\u001b[1;32m     10\u001b[0m \u001b[43m    \u001b[49m\u001b[43m)\u001b[49m\n\u001b[1;32m     11\u001b[0m results \u001b[38;5;241m=\u001b[39m pd\u001b[38;5;241m.\u001b[39mDataFrame(results)\n\u001b[1;32m     12\u001b[0m results\u001b[38;5;241m.\u001b[39mto_csv(\u001b[38;5;124m'\u001b[39m\u001b[38;5;124mdata.csv\u001b[39m\u001b[38;5;124m'\u001b[39m,index\u001b[38;5;241m=\u001b[39m\u001b[38;5;28;01mFalse\u001b[39;00m)\n",
      "Cell \u001b[0;32mIn[15], line 14\u001b[0m, in \u001b[0;36mrunExperience\u001b[0;34m(problem_name, problem_impl, problem_bounds, exp_num)\u001b[0m\n\u001b[1;32m     12\u001b[0m run_res \u001b[38;5;241m=\u001b[39m []\n\u001b[1;32m     13\u001b[0m \u001b[38;5;28;01mfor\u001b[39;00m algo, st \u001b[38;5;129;01min\u001b[39;00m algos\u001b[38;5;241m.\u001b[39mitems():\n\u001b[0;32m---> 14\u001b[0m     fit \u001b[38;5;241m=\u001b[39m \u001b[43msw\u001b[49m\u001b[38;5;241;43m.\u001b[39;49m\u001b[43msearch\u001b[49m\u001b[43m(\u001b[49m\n\u001b[1;32m     15\u001b[0m \u001b[43m            \u001b[49m\u001b[43msw\u001b[49m\u001b[38;5;241;43m.\u001b[39;49m\u001b[43mminimize\u001b[49m\u001b[43m(\u001b[49m\u001b[43mproblem\u001b[49m\u001b[43m,\u001b[49m\u001b[43m \u001b[49m\u001b[43mbounds\u001b[49m\u001b[43m,\u001b[49m\u001b[43m \u001b[49m\u001b[43mdimensions\u001b[49m\u001b[38;5;241;43m=\u001b[39;49m\u001b[43mnumDimensions\u001b[49m\u001b[43m)\u001b[49m\u001b[43m,\u001b[49m\n\u001b[1;32m     16\u001b[0m \u001b[43m            \u001b[49m\u001b[43msw\u001b[49m\u001b[38;5;241;43m.\u001b[39;49m\u001b[43muntil\u001b[49m\u001b[43m(\u001b[49m\u001b[43mmax_evals\u001b[49m\u001b[38;5;241;43m=\u001b[39;49m\u001b[43mmaxEvals\u001b[49m\u001b[43m)\u001b[49m\u001b[43m,\u001b[49m\n\u001b[1;32m     17\u001b[0m \u001b[43m            \u001b[49m\u001b[43msw\u001b[49m\u001b[38;5;241;43m.\u001b[39;49m\u001b[43musing\u001b[49m\u001b[43m(\u001b[49m\u001b[43mst\u001b[49m\u001b[43m)\u001b[49m\n\u001b[1;32m     18\u001b[0m \u001b[43m        \u001b[49m\u001b[43m)\u001b[49m[\u001b[38;5;241m-\u001b[39m\u001b[38;5;241m1\u001b[39m]\u001b[38;5;241m.\u001b[39mfit\n\u001b[1;32m     19\u001b[0m     run_res\u001b[38;5;241m.\u001b[39mappend({\n\u001b[1;32m     20\u001b[0m         \u001b[38;5;124m\"\u001b[39m\u001b[38;5;124mnum_exp\u001b[39m\u001b[38;5;124m\"\u001b[39m: exp_num,\n\u001b[1;32m     21\u001b[0m         \u001b[38;5;124m\"\u001b[39m\u001b[38;5;124mproblem\u001b[39m\u001b[38;5;124m\"\u001b[39m: problem_name,\n\u001b[1;32m     22\u001b[0m         \u001b[38;5;124m\"\u001b[39m\u001b[38;5;124malgo\u001b[39m\u001b[38;5;124m\"\u001b[39m: algo,\n\u001b[1;32m     23\u001b[0m         \u001b[38;5;124m\"\u001b[39m\u001b[38;5;124mfit\u001b[39m\u001b[38;5;124m\"\u001b[39m: fit\n\u001b[1;32m     24\u001b[0m     })\n\u001b[1;32m     25\u001b[0m \u001b[38;5;28;01mreturn\u001b[39;00m run_res\n",
      "File \u001b[0;32m~/Code/Repositories/sipy/swarmist/search.py:76\u001b[0m, in \u001b[0;36msearch\u001b[0;34m(space, until, strategy)\u001b[0m\n\u001b[1;32m     66\u001b[0m     \u001b[38;5;28;01mraise\u001b[39;00m e\n\u001b[1;32m     67\u001b[0m res: Either[\u001b[38;5;167;01mException\u001b[39;00m, SearchResults] \u001b[38;5;241m=\u001b[39m strategy()\u001b[38;5;241m.\u001b[39mthen(\n\u001b[1;32m     68\u001b[0m     \u001b[38;5;28;01mlambda\u001b[39;00m search_strategy: until()\u001b[38;5;241m.\u001b[39mthen(\n\u001b[1;32m     69\u001b[0m         \u001b[38;5;28;01mlambda\u001b[39;00m stop_condition: do_search(\n\u001b[0;32m   (...)\u001b[0m\n\u001b[1;32m     74\u001b[0m     )\n\u001b[1;32m     75\u001b[0m )\n\u001b[0;32m---> 76\u001b[0m \u001b[38;5;28;01mreturn\u001b[39;00m \u001b[43mres\u001b[49m\u001b[38;5;241;43m.\u001b[39;49m\u001b[43meither\u001b[49m\u001b[43m(\u001b[49m\u001b[43mraise_error\u001b[49m\u001b[43m,\u001b[49m\u001b[43m \u001b[49m\u001b[38;5;28;43;01mlambda\u001b[39;49;00m\u001b[43m \u001b[49m\u001b[43mres\u001b[49m\u001b[43m:\u001b[49m\u001b[43m \u001b[49m\u001b[43mres\u001b[49m\u001b[43m)\u001b[49m\n",
      "File \u001b[0;32m/opt/homebrew/lib/python3.11/site-packages/pymonad/either.py:91\u001b[0m, in \u001b[0;36mEither.either\u001b[0;34m(self, left_function, right_function)\u001b[0m\n\u001b[1;32m     89\u001b[0m     \u001b[38;5;28;01mreturn\u001b[39;00m right_function(\u001b[38;5;28mself\u001b[39m\u001b[38;5;241m.\u001b[39mvalue)\n\u001b[1;32m     90\u001b[0m \u001b[38;5;28;01melse\u001b[39;00m:\n\u001b[0;32m---> 91\u001b[0m     \u001b[38;5;28;01mreturn\u001b[39;00m \u001b[43mleft_function\u001b[49m\u001b[43m(\u001b[49m\u001b[38;5;28;43mself\u001b[39;49m\u001b[38;5;241;43m.\u001b[39;49m\u001b[43mmonoid\u001b[49m\u001b[43m[\u001b[49m\u001b[38;5;241;43m0\u001b[39;49m\u001b[43m]\u001b[49m\u001b[43m)\u001b[49m\n",
      "File \u001b[0;32m~/Code/Repositories/sipy/swarmist/search.py:66\u001b[0m, in \u001b[0;36msearch.<locals>.raise_error\u001b[0;34m(e)\u001b[0m\n\u001b[1;32m     65\u001b[0m \u001b[38;5;28;01mdef\u001b[39;00m \u001b[38;5;21mraise_error\u001b[39m(e: \u001b[38;5;167;01mException\u001b[39;00m):\n\u001b[0;32m---> 66\u001b[0m     \u001b[38;5;28;01mraise\u001b[39;00m e\n",
      "File \u001b[0;32m~/Code/Repositories/sipy/swarmist/core/executor.py:56\u001b[0m, in \u001b[0;36mSearchExecutor.evolve\u001b[0;34m(self, population)\u001b[0m\n\u001b[1;32m     54\u001b[0m \u001b[38;5;28;01mtry\u001b[39;00m: \n\u001b[1;32m     55\u001b[0m     \u001b[38;5;28;01mwhile\u001b[39;00m \u001b[38;5;28mself\u001b[39m\u001b[38;5;241m.\u001b[39m_next():\n\u001b[0;32m---> 56\u001b[0m         \u001b[43mpopulation\u001b[49m\u001b[38;5;241;43m.\u001b[39;49m\u001b[43mupdate\u001b[49m\u001b[43m(\u001b[49m\u001b[38;5;28;43mself\u001b[39;49m\u001b[38;5;241;43m.\u001b[39;49m\u001b[43mcontext\u001b[49m\u001b[43m(\u001b[49m\u001b[43m)\u001b[49m\u001b[43m)\u001b[49m\n\u001b[1;32m     57\u001b[0m \u001b[38;5;28;01mexcept\u001b[39;00m \u001b[38;5;167;01mException\u001b[39;00m \u001b[38;5;28;01mas\u001b[39;00m e: \n\u001b[1;32m     58\u001b[0m     \u001b[38;5;28;01mif\u001b[39;00m \u001b[38;5;129;01mnot\u001b[39;00m \u001b[38;5;28misinstance\u001b[39m(e, SearchEnded):\n",
      "File \u001b[0;32m~/Code/Repositories/sipy/swarmist/core/population.py:65\u001b[0m, in \u001b[0;36mPopulation.update\u001b[0;34m(self, ctx)\u001b[0m\n\u001b[1;32m     63\u001b[0m     \u001b[38;5;28;01mcontinue\u001b[39;00m\n\u001b[1;32m     64\u001b[0m \u001b[38;5;28;01mfor\u001b[39;00m agent \u001b[38;5;129;01min\u001b[39;00m to_update:\n\u001b[0;32m---> 65\u001b[0m     new_agent \u001b[38;5;241m=\u001b[39m \u001b[38;5;28;43mself\u001b[39;49m\u001b[38;5;241;43m.\u001b[39;49m\u001b[43m_get_updated_agent\u001b[49m\u001b[43m(\u001b[49m\u001b[43magent\u001b[49m\u001b[43m,\u001b[49m\u001b[43m \u001b[49m\u001b[43mupdate\u001b[49m\u001b[43m,\u001b[49m\u001b[43m \u001b[49m\u001b[43mctx\u001b[49m\u001b[43m)\u001b[49m\n\u001b[1;32m     66\u001b[0m     \u001b[38;5;28mself\u001b[39m\u001b[38;5;241m.\u001b[39m_agents[new_agent\u001b[38;5;241m.\u001b[39mindex] \u001b[38;5;241m=\u001b[39m new_agent\n\u001b[1;32m     67\u001b[0m \u001b[38;5;28mself\u001b[39m\u001b[38;5;241m.\u001b[39mrank(ctx)\n",
      "File \u001b[0;32m~/Code/Repositories/sipy/swarmist/core/population.py:73\u001b[0m, in \u001b[0;36mPopulation._get_updated_agent\u001b[0;34m(self, agent, update, ctx)\u001b[0m\n\u001b[1;32m     69\u001b[0m \u001b[38;5;28;01mdef\u001b[39;00m \u001b[38;5;21m_get_updated_agent\u001b[39m(\n\u001b[1;32m     70\u001b[0m     \u001b[38;5;28mself\u001b[39m, agent: Agent, update: Update, ctx: SearchContext\n\u001b[1;32m     71\u001b[0m ) \u001b[38;5;241m-\u001b[39m\u001b[38;5;241m>\u001b[39m Agent:\n\u001b[1;32m     72\u001b[0m     info \u001b[38;5;241m=\u001b[39m UpdateInfo\u001b[38;5;241m.\u001b[39mof(agent, \u001b[38;5;28mself\u001b[39m\u001b[38;5;241m.\u001b[39m_ranking\u001b[38;5;241m.\u001b[39mgroup_info[agent\u001b[38;5;241m.\u001b[39mindex], ctx\u001b[38;5;241m=\u001b[39mctx)\n\u001b[0;32m---> 73\u001b[0m     \u001b[38;5;28;01mreturn\u001b[39;00m \u001b[38;5;28;43mself\u001b[39;49m\u001b[38;5;241;43m.\u001b[39;49m\u001b[43m_evaluate_and_get\u001b[49m\u001b[43m(\u001b[49m\n\u001b[1;32m     74\u001b[0m \u001b[43m        \u001b[49m\u001b[43magent\u001b[49m\u001b[38;5;241;43m=\u001b[39;49m\u001b[43mupdate\u001b[49m\u001b[38;5;241;43m.\u001b[39;49m\u001b[43mrecombination\u001b[49m\u001b[43m(\u001b[49m\u001b[43magent\u001b[49m\u001b[43m,\u001b[49m\u001b[43m \u001b[49m\u001b[43mupdate\u001b[49m\u001b[38;5;241;43m.\u001b[39;49m\u001b[43meditor\u001b[49m\u001b[43m(\u001b[49m\u001b[43minfo\u001b[49m\u001b[43m)\u001b[49m\u001b[43m)\u001b[49m\u001b[43m,\u001b[49m\n\u001b[1;32m     75\u001b[0m \u001b[43m        \u001b[49m\u001b[43mold_agent\u001b[49m\u001b[38;5;241;43m=\u001b[39;49m\u001b[43magent\u001b[49m\u001b[43m,\u001b[49m\n\u001b[1;32m     76\u001b[0m \u001b[43m        \u001b[49m\u001b[43mcondition\u001b[49m\u001b[38;5;241;43m=\u001b[39;49m\u001b[43mupdate\u001b[49m\u001b[38;5;241;43m.\u001b[39;49m\u001b[43mcondition\u001b[49m\u001b[43m,\u001b[49m\n\u001b[1;32m     77\u001b[0m \u001b[43m    \u001b[49m\u001b[43m)\u001b[49m\n",
      "File \u001b[0;32m~/Code/Repositories/sipy/swarmist/core/population.py:82\u001b[0m, in \u001b[0;36mPopulation._evaluate_and_get\u001b[0;34m(self, agent, old_agent, condition)\u001b[0m\n\u001b[1;32m     79\u001b[0m \u001b[38;5;28;01mdef\u001b[39;00m \u001b[38;5;21m_evaluate_and_get\u001b[39m(\n\u001b[1;32m     80\u001b[0m     \u001b[38;5;28mself\u001b[39m, agent: Agent, old_agent: Agent, condition: Condition\n\u001b[1;32m     81\u001b[0m ) \u001b[38;5;241m-\u001b[39m\u001b[38;5;241m>\u001b[39m Agent:\n\u001b[0;32m---> 82\u001b[0m     pos, fit \u001b[38;5;241m=\u001b[39m \u001b[38;5;28;43mself\u001b[39;49m\u001b[38;5;241;43m.\u001b[39;49m\u001b[43m_evaluate\u001b[49m\u001b[43m(\u001b[49m\u001b[43magent\u001b[49m\u001b[38;5;241;43m.\u001b[39;49m\u001b[43mpos\u001b[49m\u001b[43m)\u001b[49m\n\u001b[1;32m     83\u001b[0m     delta \u001b[38;5;241m=\u001b[39m pos \u001b[38;5;241m-\u001b[39m old_agent\u001b[38;5;241m.\u001b[39mpos\n\u001b[1;32m     84\u001b[0m     improved \u001b[38;5;241m=\u001b[39m fit \u001b[38;5;241m<\u001b[39m agent\u001b[38;5;241m.\u001b[39mfit\n",
      "File \u001b[0;32m~/Code/Repositories/sipy/swarmist/core/executor.py:48\u001b[0m, in \u001b[0;36mSearchExecutor.evaluate\u001b[0;34m(self, pos)\u001b[0m\n\u001b[1;32m     46\u001b[0m \u001b[38;5;28mself\u001b[39m\u001b[38;5;241m.\u001b[39m_assert_max_evals()\n\u001b[1;32m     47\u001b[0m \u001b[38;5;28mself\u001b[39m\u001b[38;5;241m.\u001b[39m_assert_min_fit()\n\u001b[0;32m---> 48\u001b[0m evaluation \u001b[38;5;241m=\u001b[39m \u001b[38;5;28;43mself\u001b[39;49m\u001b[38;5;241;43m.\u001b[39;49m\u001b[43mevaluator\u001b[49m\u001b[38;5;241;43m.\u001b[39;49m\u001b[43mevaluate\u001b[49m\u001b[43m(\u001b[49m\u001b[43mpos\u001b[49m\u001b[43m,\u001b[49m\u001b[43m \u001b[49m\u001b[38;5;28;43mself\u001b[39;49m\u001b[38;5;241;43m.\u001b[39;49m\u001b[43mcontext\u001b[49m\u001b[43m(\u001b[49m\u001b[43m)\u001b[49m\u001b[43m)\u001b[49m\n\u001b[1;32m     49\u001b[0m \u001b[38;5;28mself\u001b[39m\u001b[38;5;241m.\u001b[39mcurr_eval \u001b[38;5;241m+\u001b[39m\u001b[38;5;241m=\u001b[39m \u001b[38;5;241m1\u001b[39m\n\u001b[1;32m     50\u001b[0m \u001b[38;5;28mself\u001b[39m\u001b[38;5;241m.\u001b[39m_log_result(evaluation)\n",
      "File \u001b[0;32m~/Code/Repositories/sipy/swarmist/core/evaluator.py:30\u001b[0m, in \u001b[0;36mEvaluator.evaluate\u001b[0;34m(self, pos, ctx)\u001b[0m\n\u001b[1;32m     28\u001b[0m \u001b[38;5;28;01mdef\u001b[39;00m \u001b[38;5;21mevaluate\u001b[39m(\u001b[38;5;28mself\u001b[39m, pos: Pos, ctx: Optional[SearchContext] \u001b[38;5;241m=\u001b[39m \u001b[38;5;28;01mNone\u001b[39;00m) \u001b[38;5;241m-\u001b[39m\u001b[38;5;241m>\u001b[39m Evaluation:\n\u001b[1;32m     29\u001b[0m     npos \u001b[38;5;241m=\u001b[39m \u001b[38;5;28mself\u001b[39m\u001b[38;5;241m.\u001b[39mclip(pos)\n\u001b[0;32m---> 30\u001b[0m     fit \u001b[38;5;241m=\u001b[39m \u001b[38;5;28;43mself\u001b[39;49m\u001b[38;5;241;43m.\u001b[39;49m\u001b[43mfit_func\u001b[49m\u001b[43m(\u001b[49m\u001b[43mnpos\u001b[49m\u001b[43m)\u001b[49m \u001b[38;5;241m+\u001b[39m \u001b[38;5;28mself\u001b[39m\u001b[38;5;241m.\u001b[39mcheck_constraints(npos, ctx)\n\u001b[1;32m     31\u001b[0m     \u001b[38;5;28;01mreturn\u001b[39;00m Evaluation(pos\u001b[38;5;241m=\u001b[39mnpos, fit\u001b[38;5;241m=\u001b[39mfit)\n",
      "File \u001b[0;32m~/Code/Repositories/sipy/swarmist/utils/benchmark.py:8\u001b[0m, in \u001b[0;36msphere.<locals>.<lambda>\u001b[0;34m(x)\u001b[0m\n\u001b[1;32m      7\u001b[0m \u001b[38;5;28;01mdef\u001b[39;00m \u001b[38;5;21msphere\u001b[39m(opposite:\u001b[38;5;28mbool\u001b[39m\u001b[38;5;241m=\u001b[39m\u001b[38;5;28;01mFalse\u001b[39;00m)\u001b[38;5;241m-\u001b[39m\u001b[38;5;241m>\u001b[39mTuple(FitnessFunction, Bounds):\n\u001b[0;32m----> 8\u001b[0m     \u001b[38;5;28;01mreturn\u001b[39;00m (\u001b[38;5;28;01mlambda\u001b[39;00m x: \u001b[43mnjitSphere\u001b[49m\u001b[43m(\u001b[49m\u001b[43mx\u001b[49m\u001b[43m,\u001b[49m\u001b[43m \u001b[49m\u001b[43mopposite\u001b[49m\u001b[43m)\u001b[49m, Bounds(\u001b[38;5;28mmin\u001b[39m\u001b[38;5;241m=\u001b[39m\u001b[38;5;241m-\u001b[39m\u001b[38;5;241m5.12\u001b[39m, \u001b[38;5;28mmax\u001b[39m\u001b[38;5;241m=\u001b[39m\u001b[38;5;241m5.12\u001b[39m))\n",
      "File \u001b[0;32m/opt/homebrew/lib/python3.11/site-packages/numba/core/dispatcher.py:468\u001b[0m, in \u001b[0;36m_DispatcherBase._compile_for_args\u001b[0;34m(self, *args, **kws)\u001b[0m\n\u001b[1;32m    464\u001b[0m         msg \u001b[38;5;241m=\u001b[39m (\u001b[38;5;124mf\u001b[39m\u001b[38;5;124m\"\u001b[39m\u001b[38;5;132;01m{\u001b[39;00m\u001b[38;5;28mstr\u001b[39m(e)\u001b[38;5;241m.\u001b[39mrstrip()\u001b[38;5;132;01m}\u001b[39;00m\u001b[38;5;124m \u001b[39m\u001b[38;5;130;01m\\n\u001b[39;00m\u001b[38;5;130;01m\\n\u001b[39;00m\u001b[38;5;124mThis error may have been caused \u001b[39m\u001b[38;5;124m\"\u001b[39m\n\u001b[1;32m    465\u001b[0m                \u001b[38;5;124mf\u001b[39m\u001b[38;5;124m\"\u001b[39m\u001b[38;5;124mby the following argument(s):\u001b[39m\u001b[38;5;130;01m\\n\u001b[39;00m\u001b[38;5;132;01m{\u001b[39;00margs_str\u001b[38;5;132;01m}\u001b[39;00m\u001b[38;5;130;01m\\n\u001b[39;00m\u001b[38;5;124m\"\u001b[39m)\n\u001b[1;32m    466\u001b[0m         e\u001b[38;5;241m.\u001b[39mpatch_message(msg)\n\u001b[0;32m--> 468\u001b[0m     \u001b[43merror_rewrite\u001b[49m\u001b[43m(\u001b[49m\u001b[43me\u001b[49m\u001b[43m,\u001b[49m\u001b[43m \u001b[49m\u001b[38;5;124;43m'\u001b[39;49m\u001b[38;5;124;43mtyping\u001b[39;49m\u001b[38;5;124;43m'\u001b[39;49m\u001b[43m)\u001b[49m\n\u001b[1;32m    469\u001b[0m \u001b[38;5;28;01mexcept\u001b[39;00m errors\u001b[38;5;241m.\u001b[39mUnsupportedError \u001b[38;5;28;01mas\u001b[39;00m e:\n\u001b[1;32m    470\u001b[0m     \u001b[38;5;66;03m# Something unsupported is present in the user code, add help info\u001b[39;00m\n\u001b[1;32m    471\u001b[0m     error_rewrite(e, \u001b[38;5;124m'\u001b[39m\u001b[38;5;124munsupported_error\u001b[39m\u001b[38;5;124m'\u001b[39m)\n",
      "File \u001b[0;32m/opt/homebrew/lib/python3.11/site-packages/numba/core/dispatcher.py:409\u001b[0m, in \u001b[0;36m_DispatcherBase._compile_for_args.<locals>.error_rewrite\u001b[0;34m(e, issue_type)\u001b[0m\n\u001b[1;32m    407\u001b[0m     \u001b[38;5;28;01mraise\u001b[39;00m e\n\u001b[1;32m    408\u001b[0m \u001b[38;5;28;01melse\u001b[39;00m:\n\u001b[0;32m--> 409\u001b[0m     \u001b[38;5;28;01mraise\u001b[39;00m e\u001b[38;5;241m.\u001b[39mwith_traceback(\u001b[38;5;28;01mNone\u001b[39;00m)\n",
      "\u001b[0;31mTypingError\u001b[0m: Failed in nopython mode pipeline (step: nopython frontend)\nNo implementation of function Function(<built-in function sum>) found for signature:\n \n >>> sum(float64)\n \nThere are 2 candidate implementations:\n  - Of which 2 did not match due to:\n  Overload of function 'sum': File: numba/cpython/builtins.py: Line 685.\n    With argument(s): '(float64)':\n   No match.\n\nDuring: resolving callee type: Function(<built-in function sum>)\nDuring: typing of call at /Users/kam/Code/Repositories/sipy/swarmist/utils/benchmark.py (12)\n\n\nFile \"swarmist/utils/benchmark.py\", line 12:\ndef njitSphere(x, opposite):\n    evl = sum(x ** 2)\n    ^\n"
     ]
    }
   ],
   "source": [
    "problem_name = \"Sphere\"\n",
    "problem, bounds = problems[problem_name]\n",
    "\n",
    "for i in range(numExperiences):\n",
    "    results += runExperience(\n",
    "        problem_name,\n",
    "        problem, \n",
    "        bounds,\n",
    "        1\n",
    "    )\n",
    "results = pd.DataFrame(results)\n",
    "results.to_csv('data.csv',index=False)"
   ]
  },
  {
   "cell_type": "code",
   "execution_count": null,
   "id": "051691cd",
   "metadata": {},
   "outputs": [],
   "source": []
  }
 ],
 "metadata": {
  "kernelspec": {
   "display_name": "Python 3 (ipykernel)",
   "language": "python",
   "name": "python3"
  },
  "language_info": {
   "codemirror_mode": {
    "name": "ipython",
    "version": 3
   },
   "file_extension": ".py",
   "mimetype": "text/x-python",
   "name": "python",
   "nbconvert_exporter": "python",
   "pygments_lexer": "ipython3",
   "version": "3.11.3"
  }
 },
 "nbformat": 4,
 "nbformat_minor": 5
}
